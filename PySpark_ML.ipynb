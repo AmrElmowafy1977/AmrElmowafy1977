{
  "nbformat": 4,
  "nbformat_minor": 0,
  "metadata": {
    "colab": {
      "name": "PySpark ML.ipynb",
      "provenance": [],
      "collapsed_sections": [],
      "authorship_tag": "ABX9TyOhvZKuj+6gDNQSBVjVzS6W",
      "include_colab_link": true
    },
    "kernelspec": {
      "name": "python3",
      "display_name": "Python 3"
    },
    "language_info": {
      "name": "python"
    }
  },
  "cells": [
    {
      "cell_type": "markdown",
      "metadata": {
        "id": "view-in-github",
        "colab_type": "text"
      },
      "source": [
        "<a href=\"https://colab.research.google.com/github/AmrElmowafy1977/AmrElmowafy1977/blob/main/PySpark_ML.ipynb\" target=\"_parent\"><img src=\"https://colab.research.google.com/assets/colab-badge.svg\" alt=\"Open In Colab\"/></a>"
      ]
    },
    {
      "cell_type": "code",
      "execution_count": 1,
      "metadata": {
        "colab": {
          "base_uri": "https://localhost:8080/"
        },
        "id": "SqTF1vPScXWV",
        "outputId": "cdf0ab67-ebf3-428c-a589-632f944a352b"
      },
      "outputs": [
        {
          "output_type": "stream",
          "name": "stdout",
          "text": [
            "Looking in indexes: https://pypi.org/simple, https://us-python.pkg.dev/colab-wheels/public/simple/\n",
            "Collecting pyspark\n",
            "  Downloading pyspark-3.3.0.tar.gz (281.3 MB)\n",
            "\u001b[K     |████████████████████████████████| 281.3 MB 41 kB/s \n",
            "\u001b[?25hCollecting py4j==0.10.9.5\n",
            "  Downloading py4j-0.10.9.5-py2.py3-none-any.whl (199 kB)\n",
            "\u001b[K     |████████████████████████████████| 199 kB 53.5 MB/s \n",
            "\u001b[?25hBuilding wheels for collected packages: pyspark\n",
            "  Building wheel for pyspark (setup.py) ... \u001b[?25l\u001b[?25hdone\n",
            "  Created wheel for pyspark: filename=pyspark-3.3.0-py2.py3-none-any.whl size=281764026 sha256=ad60bfc1a2d43409f232fb50f5818b0ab00b088c67220dbde5301e55e8401b15\n",
            "  Stored in directory: /root/.cache/pip/wheels/7a/8e/1b/f73a52650d2e5f337708d9f6a1750d451a7349a867f928b885\n",
            "Successfully built pyspark\n",
            "Installing collected packages: py4j, pyspark\n",
            "Successfully installed py4j-0.10.9.5 pyspark-3.3.0\n"
          ]
        }
      ],
      "source": [
        "pip install pyspark"
      ]
    },
    {
      "cell_type": "markdown",
      "source": [
        "##Import Libraries"
      ],
      "metadata": {
        "id": "5yfJUoqPcwuq"
      }
    },
    {
      "cell_type": "code",
      "source": [
        "from pyspark.sql import SparkSession\n",
        "import pyspark.sql.functions as F\n",
        "import pyspark.sql.types as T"
      ],
      "metadata": {
        "id": "EUHjrcRhc0j0"
      },
      "execution_count": 3,
      "outputs": []
    },
    {
      "cell_type": "code",
      "source": [
        "spark = SparkSession.builder.getOrCreate()"
      ],
      "metadata": {
        "id": "QxM55k-bd9b6"
      },
      "execution_count": 4,
      "outputs": []
    },
    {
      "cell_type": "code",
      "source": [
        "spark"
      ],
      "metadata": {
        "colab": {
          "base_uri": "https://localhost:8080/",
          "height": 219
        },
        "id": "UDADGXu0eWEK",
        "outputId": "babf2d28-9fbb-4b34-d479-c3d953ba8cd6"
      },
      "execution_count": 5,
      "outputs": [
        {
          "output_type": "execute_result",
          "data": {
            "text/plain": [
              "<pyspark.sql.session.SparkSession at 0x7f6ff32d68d0>"
            ],
            "text/html": [
              "\n",
              "            <div>\n",
              "                <p><b>SparkSession - in-memory</b></p>\n",
              "                \n",
              "        <div>\n",
              "            <p><b>SparkContext</b></p>\n",
              "\n",
              "            <p><a href=\"http://559535fedabd:4040\">Spark UI</a></p>\n",
              "\n",
              "            <dl>\n",
              "              <dt>Version</dt>\n",
              "                <dd><code>v3.3.0</code></dd>\n",
              "              <dt>Master</dt>\n",
              "                <dd><code>local[*]</code></dd>\n",
              "              <dt>AppName</dt>\n",
              "                <dd><code>pyspark-shell</code></dd>\n",
              "            </dl>\n",
              "        </div>\n",
              "        \n",
              "            </div>\n",
              "        "
            ]
          },
          "metadata": {},
          "execution_count": 5
        }
      ]
    },
    {
      "cell_type": "code",
      "source": [
        "# Load our dataset\n",
        "df = spark.read.csv(\"/content/hcvdat0.csv\",header=True,inferSchema=True)\n",
        "df.show()"
      ],
      "metadata": {
        "colab": {
          "base_uri": "https://localhost:8080/"
        },
        "id": "jPSIQrGCeZi0",
        "outputId": "0746dd34-a329-4dfb-fb42-e51b072b3b2e"
      },
      "execution_count": 6,
      "outputs": [
        {
          "output_type": "stream",
          "name": "stdout",
          "text": [
            "+---+-------------+---+---+----+----+----+----+----+-----+----+-----+----+----+\n",
            "|_c0|     Category|Age|Sex| ALB| ALP| ALT| AST| BIL|  CHE|CHOL| CREA| GGT|PROT|\n",
            "+---+-------------+---+---+----+----+----+----+----+-----+----+-----+----+----+\n",
            "|  1|0=Blood Donor| 32|  m|38.5|52.5| 7.7|22.1| 7.5| 6.93|3.23|106.0|12.1|  69|\n",
            "|  2|0=Blood Donor| 32|  m|38.5|70.3|  18|24.7| 3.9|11.17| 4.8| 74.0|15.6|76.5|\n",
            "|  3|0=Blood Donor| 32|  m|46.9|74.7|36.2|52.6| 6.1| 8.84| 5.2| 86.0|33.2|79.3|\n",
            "|  4|0=Blood Donor| 32|  m|43.2|  52|30.6|22.6|18.9| 7.33|4.74| 80.0|33.8|75.7|\n",
            "|  5|0=Blood Donor| 32|  m|39.2|74.1|32.6|24.8| 9.6| 9.15|4.32| 76.0|29.9|68.7|\n",
            "|  6|0=Blood Donor| 32|  m|41.6|43.3|18.5|19.7|12.3| 9.92|6.05|111.0|91.0|  74|\n",
            "|  7|0=Blood Donor| 32|  m|46.3|41.3|17.5|17.8| 8.5| 7.01|4.79| 70.0|16.9|74.5|\n",
            "|  8|0=Blood Donor| 32|  m|42.2|41.9|35.8|31.1|16.1| 5.82| 4.6|109.0|21.5|67.1|\n",
            "|  9|0=Blood Donor| 32|  m|50.9|65.5|23.2|21.2| 6.9| 8.69| 4.1| 83.0|13.7|71.3|\n",
            "| 10|0=Blood Donor| 32|  m|42.4|86.3|20.3|20.0|35.2| 5.46|4.45| 81.0|15.9|69.9|\n",
            "| 11|0=Blood Donor| 32|  m|44.3|52.3|21.7|22.4|17.2| 4.15|3.57| 78.0|24.1|75.4|\n",
            "| 12|0=Blood Donor| 33|  m|46.4|68.2|10.3|20.0| 5.7| 7.36| 4.3| 79.0|18.7|68.6|\n",
            "| 13|0=Blood Donor| 33|  m|36.3|78.6|23.6|22.0| 7.0| 8.56|5.38| 78.0|19.4|68.7|\n",
            "| 14|0=Blood Donor| 33|  m|  39|51.7|15.9|24.0| 6.8| 6.46|3.38| 65.0| 7.0|70.4|\n",
            "| 15|0=Blood Donor| 33|  m|38.7|39.8|22.5|23.0| 4.1| 4.63|4.97| 63.0|15.2|71.9|\n",
            "| 16|0=Blood Donor| 33|  m|41.8|  65|33.1|38.0| 6.6| 8.83|4.43| 71.0|24.0|72.7|\n",
            "| 17|0=Blood Donor| 33|  m|40.9|  73|17.2|22.9|10.0| 6.98|5.22| 90.0|14.7|72.4|\n",
            "| 18|0=Blood Donor| 33|  m|45.2|88.3|32.4|31.2|10.1| 9.78|5.51|102.0|48.5|76.5|\n",
            "| 19|0=Blood Donor| 33|  m|36.6|57.1|38.9|40.3|24.9| 9.62| 5.5|112.0|27.6|69.3|\n",
            "| 20|0=Blood Donor| 33|  m|  42|63.1|32.6|34.9|11.2| 7.01|4.05|105.0|19.1|68.1|\n",
            "+---+-------------+---+---+----+----+----+----+----+-----+----+-----+----+----+\n",
            "only showing top 20 rows\n",
            "\n"
          ]
        }
      ]
    },
    {
      "cell_type": "code",
      "source": [
        "# check for columns\n",
        "print(df.columns)"
      ],
      "metadata": {
        "colab": {
          "base_uri": "https://localhost:8080/"
        },
        "id": "JRcMpNk3hMEu",
        "outputId": "19f6f3ff-6c0b-4db9-80ec-a7a70021444d"
      },
      "execution_count": 8,
      "outputs": [
        {
          "output_type": "stream",
          "name": "stdout",
          "text": [
            "['_c0', 'Category', 'Age', 'Sex', 'ALB', 'ALP', 'ALT', 'AST', 'BIL', 'CHE', 'CHOL', 'CREA', 'GGT', 'PROT']\n"
          ]
        }
      ]
    },
    {
      "cell_type": "code",
      "source": [
        "# Rearrange\n",
        "df = df.select('Age', 'Sex', 'ALB', 'ALP', 'ALT', 'AST', 'BIL', 'CHE', 'CHOL', 'CREA', 'GGT', 'PROT','Category')"
      ],
      "metadata": {
        "id": "xDWTThX-hRLK"
      },
      "execution_count": 9,
      "outputs": []
    },
    {
      "cell_type": "code",
      "source": [
        "df.show(5)\n"
      ],
      "metadata": {
        "colab": {
          "base_uri": "https://localhost:8080/"
        },
        "id": "sQ4u9GQAhcNw",
        "outputId": "ea4b70f2-c44c-449e-ad2f-d20b5724e8ee"
      },
      "execution_count": 10,
      "outputs": [
        {
          "output_type": "stream",
          "name": "stdout",
          "text": [
            "+---+---+----+----+----+----+----+-----+----+-----+----+----+-------------+\n",
            "|Age|Sex| ALB| ALP| ALT| AST| BIL|  CHE|CHOL| CREA| GGT|PROT|     Category|\n",
            "+---+---+----+----+----+----+----+-----+----+-----+----+----+-------------+\n",
            "| 32|  m|38.5|52.5| 7.7|22.1| 7.5| 6.93|3.23|106.0|12.1|  69|0=Blood Donor|\n",
            "| 32|  m|38.5|70.3|  18|24.7| 3.9|11.17| 4.8| 74.0|15.6|76.5|0=Blood Donor|\n",
            "| 32|  m|46.9|74.7|36.2|52.6| 6.1| 8.84| 5.2| 86.0|33.2|79.3|0=Blood Donor|\n",
            "| 32|  m|43.2|  52|30.6|22.6|18.9| 7.33|4.74| 80.0|33.8|75.7|0=Blood Donor|\n",
            "| 32|  m|39.2|74.1|32.6|24.8| 9.6| 9.15|4.32| 76.0|29.9|68.7|0=Blood Donor|\n",
            "+---+---+----+----+----+----+----+-----+----+-----+----+----+-------------+\n",
            "only showing top 5 rows\n",
            "\n"
          ]
        }
      ]
    },
    {
      "cell_type": "code",
      "source": [
        "# Check for datatypes\n",
        "# Before InferSchema=True\n",
        "df.dtypes"
      ],
      "metadata": {
        "colab": {
          "base_uri": "https://localhost:8080/"
        },
        "id": "W_5qSWkRhgK5",
        "outputId": "1c61444c-3202-4430-83a2-c5abeb48e0c9"
      },
      "execution_count": 11,
      "outputs": [
        {
          "output_type": "execute_result",
          "data": {
            "text/plain": [
              "[('Age', 'int'),\n",
              " ('Sex', 'string'),\n",
              " ('ALB', 'string'),\n",
              " ('ALP', 'string'),\n",
              " ('ALT', 'string'),\n",
              " ('AST', 'double'),\n",
              " ('BIL', 'double'),\n",
              " ('CHE', 'double'),\n",
              " ('CHOL', 'string'),\n",
              " ('CREA', 'double'),\n",
              " ('GGT', 'double'),\n",
              " ('PROT', 'string'),\n",
              " ('Category', 'string')]"
            ]
          },
          "metadata": {},
          "execution_count": 11
        }
      ]
    },
    {
      "cell_type": "code",
      "source": [
        "# Check for the Schema\n",
        "df.printSchema()"
      ],
      "metadata": {
        "colab": {
          "base_uri": "https://localhost:8080/"
        },
        "id": "yfqLxMU2hyOj",
        "outputId": "5fc2e705-f80c-4385-e08b-68f8a453f078"
      },
      "execution_count": 12,
      "outputs": [
        {
          "output_type": "stream",
          "name": "stdout",
          "text": [
            "root\n",
            " |-- Age: integer (nullable = true)\n",
            " |-- Sex: string (nullable = true)\n",
            " |-- ALB: string (nullable = true)\n",
            " |-- ALP: string (nullable = true)\n",
            " |-- ALT: string (nullable = true)\n",
            " |-- AST: double (nullable = true)\n",
            " |-- BIL: double (nullable = true)\n",
            " |-- CHE: double (nullable = true)\n",
            " |-- CHOL: string (nullable = true)\n",
            " |-- CREA: double (nullable = true)\n",
            " |-- GGT: double (nullable = true)\n",
            " |-- PROT: string (nullable = true)\n",
            " |-- Category: string (nullable = true)\n",
            "\n"
          ]
        }
      ]
    },
    {
      "cell_type": "code",
      "source": [
        "# Descriptive summary\n",
        "print(df.describe().show())"
      ],
      "metadata": {
        "colab": {
          "base_uri": "https://localhost:8080/"
        },
        "id": "0TrBJ8w1h3XH",
        "outputId": "70ac0655-cf6d-44ce-f447-43c7b62b8a46"
      },
      "execution_count": 13,
      "outputs": [
        {
          "output_type": "stream",
          "name": "stdout",
          "text": [
            "+-------+------------------+----+-----------------+------------------+------------------+-----------------+------------------+------------------+------------------+-----------------+-----------------+-----------------+-------------+\n",
            "|summary|               Age| Sex|              ALB|               ALP|               ALT|              AST|               BIL|               CHE|              CHOL|             CREA|              GGT|             PROT|     Category|\n",
            "+-------+------------------+----+-----------------+------------------+------------------+-----------------+------------------+------------------+------------------+-----------------+-----------------+-----------------+-------------+\n",
            "|  count|               615| 615|              615|               615|               615|              615|               615|               615|               615|              615|              615|              615|          615|\n",
            "|   mean| 47.40813008130081|null|41.62019543973941| 68.28391959798999| 28.45081433224754|34.78634146341462|11.396747967479675| 8.196634146341458| 5.368099173553719|81.28780487804877|39.53317073170732|72.04413680781768|         null|\n",
            "| stddev|10.055105445519239|null|5.780629404103076|26.028315300123676|25.469688813870942|33.09069033855156|19.673149805846588|2.2056572704292927|1.1327284311597354|49.75616601234976|54.66107123891245|5.402635737104955|         null|\n",
            "|    min|                19|   f|             14.9|             100.4|               0.9|             10.6|               0.8|              1.42|              1.43|              8.0|              4.5|             44.8|0=Blood Donor|\n",
            "|    max|                77|   m|               NA|                NA|                NA|            324.0|             254.0|             16.41|                NA|           1079.1|            650.9|               NA|  3=Cirrhosis|\n",
            "+-------+------------------+----+-----------------+------------------+------------------+-----------------+------------------+------------------+------------------+-----------------+-----------------+-----------------+-------------+\n",
            "\n",
            "None\n"
          ]
        }
      ]
    },
    {
      "cell_type": "code",
      "source": [
        "# Value Count \n",
        "df.groupBy('Category').count().show()"
      ],
      "metadata": {
        "colab": {
          "base_uri": "https://localhost:8080/"
        },
        "id": "8nSgQXL6iCcA",
        "outputId": "529ca7c5-5e9c-4ceb-df2c-c8fc4d87059d"
      },
      "execution_count": 14,
      "outputs": [
        {
          "output_type": "stream",
          "name": "stdout",
          "text": [
            "+--------------------+-----+\n",
            "|            Category|count|\n",
            "+--------------------+-----+\n",
            "|       0=Blood Donor|  533|\n",
            "|         3=Cirrhosis|   30|\n",
            "|          2=Fibrosis|   21|\n",
            "|0s=suspect Blood ...|    7|\n",
            "|         1=Hepatitis|   24|\n",
            "+--------------------+-----+\n",
            "\n"
          ]
        }
      ]
    },
    {
      "cell_type": "markdown",
      "source": [
        "#### Feature Engineering\n",
        "+ Numberical Values\n",
        "+ Vectorization\n",
        "+ Scaling"
      ],
      "metadata": {
        "id": "jJm06SDcifcq"
      }
    },
    {
      "cell_type": "code",
      "source": [
        "df.show(5)"
      ],
      "metadata": {
        "colab": {
          "base_uri": "https://localhost:8080/"
        },
        "id": "5Y-3Fre3igSp",
        "outputId": "913b2a28-8e24-4a40-90b0-3905c7829954"
      },
      "execution_count": 16,
      "outputs": [
        {
          "output_type": "stream",
          "name": "stdout",
          "text": [
            "+---+---+----+----+----+----+----+-----+----+-----+----+----+-------------+\n",
            "|Age|Sex| ALB| ALP| ALT| AST| BIL|  CHE|CHOL| CREA| GGT|PROT|     Category|\n",
            "+---+---+----+----+----+----+----+-----+----+-----+----+----+-------------+\n",
            "| 32|  m|38.5|52.5| 7.7|22.1| 7.5| 6.93|3.23|106.0|12.1|  69|0=Blood Donor|\n",
            "| 32|  m|38.5|70.3|  18|24.7| 3.9|11.17| 4.8| 74.0|15.6|76.5|0=Blood Donor|\n",
            "| 32|  m|46.9|74.7|36.2|52.6| 6.1| 8.84| 5.2| 86.0|33.2|79.3|0=Blood Donor|\n",
            "| 32|  m|43.2|  52|30.6|22.6|18.9| 7.33|4.74| 80.0|33.8|75.7|0=Blood Donor|\n",
            "| 32|  m|39.2|74.1|32.6|24.8| 9.6| 9.15|4.32| 76.0|29.9|68.7|0=Blood Donor|\n",
            "+---+---+----+----+----+----+----+-----+----+-----+----+----+-------------+\n",
            "only showing top 5 rows\n",
            "\n"
          ]
        }
      ]
    },
    {
      "cell_type": "code",
      "source": [
        "import pyspark.ml\n"
      ],
      "metadata": {
        "id": "YPCvEk0qik_H"
      },
      "execution_count": 17,
      "outputs": []
    },
    {
      "cell_type": "code",
      "source": [
        "dir(pyspark.ml)"
      ],
      "metadata": {
        "colab": {
          "base_uri": "https://localhost:8080/"
        },
        "id": "Tp5hp4fXipCN",
        "outputId": "cefdb034-766b-4627-bd67-bdc97745632b"
      },
      "execution_count": 18,
      "outputs": [
        {
          "output_type": "execute_result",
          "data": {
            "text/plain": [
              "['Estimator',\n",
              " 'Model',\n",
              " 'Pipeline',\n",
              " 'PipelineModel',\n",
              " 'PredictionModel',\n",
              " 'Predictor',\n",
              " 'Transformer',\n",
              " 'UnaryTransformer',\n",
              " '__all__',\n",
              " '__builtins__',\n",
              " '__cached__',\n",
              " '__doc__',\n",
              " '__file__',\n",
              " '__loader__',\n",
              " '__name__',\n",
              " '__package__',\n",
              " '__path__',\n",
              " '__spec__',\n",
              " 'base',\n",
              " 'classification',\n",
              " 'clustering',\n",
              " 'common',\n",
              " 'evaluation',\n",
              " 'feature',\n",
              " 'fpm',\n",
              " 'image',\n",
              " 'linalg',\n",
              " 'param',\n",
              " 'pipeline',\n",
              " 'recommendation',\n",
              " 'regression',\n",
              " 'stat',\n",
              " 'tree',\n",
              " 'tuning',\n",
              " 'util',\n",
              " 'wrapper']"
            ]
          },
          "metadata": {},
          "execution_count": 18
        }
      ]
    },
    {
      "cell_type": "code",
      "source": [
        "# Load ML Pkgs\n",
        "from pyspark.ml.feature import VectorAssembler,StringIndexer"
      ],
      "metadata": {
        "id": "9SDUxKm4i3pg"
      },
      "execution_count": 19,
      "outputs": []
    },
    {
      "cell_type": "code",
      "source": [
        "df.show(5)\n"
      ],
      "metadata": {
        "colab": {
          "base_uri": "https://localhost:8080/"
        },
        "id": "5XwclrBDjB4_",
        "outputId": "92bf724e-4265-4e18-f54a-fbaf5c1ba704"
      },
      "execution_count": 20,
      "outputs": [
        {
          "output_type": "stream",
          "name": "stdout",
          "text": [
            "+---+---+----+----+----+----+----+-----+----+-----+----+----+-------------+\n",
            "|Age|Sex| ALB| ALP| ALT| AST| BIL|  CHE|CHOL| CREA| GGT|PROT|     Category|\n",
            "+---+---+----+----+----+----+----+-----+----+-----+----+----+-------------+\n",
            "| 32|  m|38.5|52.5| 7.7|22.1| 7.5| 6.93|3.23|106.0|12.1|  69|0=Blood Donor|\n",
            "| 32|  m|38.5|70.3|  18|24.7| 3.9|11.17| 4.8| 74.0|15.6|76.5|0=Blood Donor|\n",
            "| 32|  m|46.9|74.7|36.2|52.6| 6.1| 8.84| 5.2| 86.0|33.2|79.3|0=Blood Donor|\n",
            "| 32|  m|43.2|  52|30.6|22.6|18.9| 7.33|4.74| 80.0|33.8|75.7|0=Blood Donor|\n",
            "| 32|  m|39.2|74.1|32.6|24.8| 9.6| 9.15|4.32| 76.0|29.9|68.7|0=Blood Donor|\n",
            "+---+---+----+----+----+----+----+-----+----+-----+----+----+-------------+\n",
            "only showing top 5 rows\n",
            "\n"
          ]
        }
      ]
    },
    {
      "cell_type": "code",
      "source": [
        "# Unique Values for Sex\n",
        "df.select('Sex').distinct().show()"
      ],
      "metadata": {
        "colab": {
          "base_uri": "https://localhost:8080/"
        },
        "id": "vjSUT2SrjIF6",
        "outputId": "b05c9fff-c746-447d-9ec3-ce17e3806c16"
      },
      "execution_count": 21,
      "outputs": [
        {
          "output_type": "stream",
          "name": "stdout",
          "text": [
            "+---+\n",
            "|Sex|\n",
            "+---+\n",
            "|  m|\n",
            "|  f|\n",
            "+---+\n",
            "\n"
          ]
        }
      ]
    },
    {
      "cell_type": "code",
      "source": [
        "# Convert the string into numerical code\n",
        "# label encoding\n",
        "genderEncoder = StringIndexer(inputCol='Sex',outputCol='Gender').fit(df)"
      ],
      "metadata": {
        "id": "Cf-5BNdrjPFI"
      },
      "execution_count": 22,
      "outputs": []
    },
    {
      "cell_type": "code",
      "source": [
        "df = genderEncoder.transform(df)\n",
        "df.show(5)\n"
      ],
      "metadata": {
        "colab": {
          "base_uri": "https://localhost:8080/"
        },
        "id": "edIGwZQejw2j",
        "outputId": "d2917453-9761-4a73-a804-679204a280f4"
      },
      "execution_count": 23,
      "outputs": [
        {
          "output_type": "stream",
          "name": "stdout",
          "text": [
            "+---+---+----+----+----+----+----+-----+----+-----+----+----+-------------+------+\n",
            "|Age|Sex| ALB| ALP| ALT| AST| BIL|  CHE|CHOL| CREA| GGT|PROT|     Category|Gender|\n",
            "+---+---+----+----+----+----+----+-----+----+-----+----+----+-------------+------+\n",
            "| 32|  m|38.5|52.5| 7.7|22.1| 7.5| 6.93|3.23|106.0|12.1|  69|0=Blood Donor|   0.0|\n",
            "| 32|  m|38.5|70.3|  18|24.7| 3.9|11.17| 4.8| 74.0|15.6|76.5|0=Blood Donor|   0.0|\n",
            "| 32|  m|46.9|74.7|36.2|52.6| 6.1| 8.84| 5.2| 86.0|33.2|79.3|0=Blood Donor|   0.0|\n",
            "| 32|  m|43.2|  52|30.6|22.6|18.9| 7.33|4.74| 80.0|33.8|75.7|0=Blood Donor|   0.0|\n",
            "| 32|  m|39.2|74.1|32.6|24.8| 9.6| 9.15|4.32| 76.0|29.9|68.7|0=Blood Donor|   0.0|\n",
            "+---+---+----+----+----+----+----+-----+----+-----+----+----+-------------+------+\n",
            "only showing top 5 rows\n",
            "\n"
          ]
        }
      ]
    },
    {
      "cell_type": "code",
      "source": [
        "# Encoding for Category\n",
        "# Label Encoding\n",
        "catEncoder = StringIndexer(inputCol='Category',outputCol='Target').fit(df)\n",
        "df = catEncoder.transform(df)"
      ],
      "metadata": {
        "id": "lhOTCBz6j6P0"
      },
      "execution_count": 24,
      "outputs": []
    },
    {
      "cell_type": "code",
      "source": [
        "df.show(5)\n"
      ],
      "metadata": {
        "colab": {
          "base_uri": "https://localhost:8080/"
        },
        "id": "bVzt2SeckSi2",
        "outputId": "82377fa8-810c-4fe6-e9f5-a9d35bd45032"
      },
      "execution_count": 25,
      "outputs": [
        {
          "output_type": "stream",
          "name": "stdout",
          "text": [
            "+---+---+----+----+----+----+----+-----+----+-----+----+----+-------------+------+------+\n",
            "|Age|Sex| ALB| ALP| ALT| AST| BIL|  CHE|CHOL| CREA| GGT|PROT|     Category|Gender|Target|\n",
            "+---+---+----+----+----+----+----+-----+----+-----+----+----+-------------+------+------+\n",
            "| 32|  m|38.5|52.5| 7.7|22.1| 7.5| 6.93|3.23|106.0|12.1|  69|0=Blood Donor|   0.0|   0.0|\n",
            "| 32|  m|38.5|70.3|  18|24.7| 3.9|11.17| 4.8| 74.0|15.6|76.5|0=Blood Donor|   0.0|   0.0|\n",
            "| 32|  m|46.9|74.7|36.2|52.6| 6.1| 8.84| 5.2| 86.0|33.2|79.3|0=Blood Donor|   0.0|   0.0|\n",
            "| 32|  m|43.2|  52|30.6|22.6|18.9| 7.33|4.74| 80.0|33.8|75.7|0=Blood Donor|   0.0|   0.0|\n",
            "| 32|  m|39.2|74.1|32.6|24.8| 9.6| 9.15|4.32| 76.0|29.9|68.7|0=Blood Donor|   0.0|   0.0|\n",
            "+---+---+----+----+----+----+----+-----+----+-----+----+----+-------------+------+------+\n",
            "only showing top 5 rows\n",
            "\n"
          ]
        }
      ]
    },
    {
      "cell_type": "code",
      "source": [
        "# Get the labels\n",
        "catEncoder.labels"
      ],
      "metadata": {
        "colab": {
          "base_uri": "https://localhost:8080/"
        },
        "id": "W0BWRfcRkYPX",
        "outputId": "e0db6b57-40c2-4375-89e2-22391989e7fe"
      },
      "execution_count": 26,
      "outputs": [
        {
          "output_type": "execute_result",
          "data": {
            "text/plain": [
              "['0=Blood Donor',\n",
              " '3=Cirrhosis',\n",
              " '1=Hepatitis',\n",
              " '2=Fibrosis',\n",
              " '0s=suspect Blood Donor']"
            ]
          },
          "metadata": {},
          "execution_count": 26
        }
      ]
    },
    {
      "cell_type": "code",
      "source": [
        "# IndexToString\n",
        "from pyspark.ml.feature import IndexToString"
      ],
      "metadata": {
        "id": "GwOkQQkgkv7a"
      },
      "execution_count": 27,
      "outputs": []
    },
    {
      "cell_type": "code",
      "source": [
        "converter = IndexToString(inputCol='Target',outputCol='orig_cat')"
      ],
      "metadata": {
        "id": "V-x9rsqFlA9Y"
      },
      "execution_count": 28,
      "outputs": []
    },
    {
      "cell_type": "code",
      "source": [
        "converted_df = converter.transform(df)"
      ],
      "metadata": {
        "id": "h-zXiofjlPWN"
      },
      "execution_count": 29,
      "outputs": []
    },
    {
      "cell_type": "code",
      "source": [
        "converted_df.show()\n"
      ],
      "metadata": {
        "colab": {
          "base_uri": "https://localhost:8080/"
        },
        "id": "5O3MFwLrlS5p",
        "outputId": "6718dff0-693a-4310-8417-3d901ac0606d"
      },
      "execution_count": 30,
      "outputs": [
        {
          "output_type": "stream",
          "name": "stdout",
          "text": [
            "+---+---+----+----+----+----+----+-----+----+-----+----+----+-------------+------+------+-------------+\n",
            "|Age|Sex| ALB| ALP| ALT| AST| BIL|  CHE|CHOL| CREA| GGT|PROT|     Category|Gender|Target|     orig_cat|\n",
            "+---+---+----+----+----+----+----+-----+----+-----+----+----+-------------+------+------+-------------+\n",
            "| 32|  m|38.5|52.5| 7.7|22.1| 7.5| 6.93|3.23|106.0|12.1|  69|0=Blood Donor|   0.0|   0.0|0=Blood Donor|\n",
            "| 32|  m|38.5|70.3|  18|24.7| 3.9|11.17| 4.8| 74.0|15.6|76.5|0=Blood Donor|   0.0|   0.0|0=Blood Donor|\n",
            "| 32|  m|46.9|74.7|36.2|52.6| 6.1| 8.84| 5.2| 86.0|33.2|79.3|0=Blood Donor|   0.0|   0.0|0=Blood Donor|\n",
            "| 32|  m|43.2|  52|30.6|22.6|18.9| 7.33|4.74| 80.0|33.8|75.7|0=Blood Donor|   0.0|   0.0|0=Blood Donor|\n",
            "| 32|  m|39.2|74.1|32.6|24.8| 9.6| 9.15|4.32| 76.0|29.9|68.7|0=Blood Donor|   0.0|   0.0|0=Blood Donor|\n",
            "| 32|  m|41.6|43.3|18.5|19.7|12.3| 9.92|6.05|111.0|91.0|  74|0=Blood Donor|   0.0|   0.0|0=Blood Donor|\n",
            "| 32|  m|46.3|41.3|17.5|17.8| 8.5| 7.01|4.79| 70.0|16.9|74.5|0=Blood Donor|   0.0|   0.0|0=Blood Donor|\n",
            "| 32|  m|42.2|41.9|35.8|31.1|16.1| 5.82| 4.6|109.0|21.5|67.1|0=Blood Donor|   0.0|   0.0|0=Blood Donor|\n",
            "| 32|  m|50.9|65.5|23.2|21.2| 6.9| 8.69| 4.1| 83.0|13.7|71.3|0=Blood Donor|   0.0|   0.0|0=Blood Donor|\n",
            "| 32|  m|42.4|86.3|20.3|20.0|35.2| 5.46|4.45| 81.0|15.9|69.9|0=Blood Donor|   0.0|   0.0|0=Blood Donor|\n",
            "| 32|  m|44.3|52.3|21.7|22.4|17.2| 4.15|3.57| 78.0|24.1|75.4|0=Blood Donor|   0.0|   0.0|0=Blood Donor|\n",
            "| 33|  m|46.4|68.2|10.3|20.0| 5.7| 7.36| 4.3| 79.0|18.7|68.6|0=Blood Donor|   0.0|   0.0|0=Blood Donor|\n",
            "| 33|  m|36.3|78.6|23.6|22.0| 7.0| 8.56|5.38| 78.0|19.4|68.7|0=Blood Donor|   0.0|   0.0|0=Blood Donor|\n",
            "| 33|  m|  39|51.7|15.9|24.0| 6.8| 6.46|3.38| 65.0| 7.0|70.4|0=Blood Donor|   0.0|   0.0|0=Blood Donor|\n",
            "| 33|  m|38.7|39.8|22.5|23.0| 4.1| 4.63|4.97| 63.0|15.2|71.9|0=Blood Donor|   0.0|   0.0|0=Blood Donor|\n",
            "| 33|  m|41.8|  65|33.1|38.0| 6.6| 8.83|4.43| 71.0|24.0|72.7|0=Blood Donor|   0.0|   0.0|0=Blood Donor|\n",
            "| 33|  m|40.9|  73|17.2|22.9|10.0| 6.98|5.22| 90.0|14.7|72.4|0=Blood Donor|   0.0|   0.0|0=Blood Donor|\n",
            "| 33|  m|45.2|88.3|32.4|31.2|10.1| 9.78|5.51|102.0|48.5|76.5|0=Blood Donor|   0.0|   0.0|0=Blood Donor|\n",
            "| 33|  m|36.6|57.1|38.9|40.3|24.9| 9.62| 5.5|112.0|27.6|69.3|0=Blood Donor|   0.0|   0.0|0=Blood Donor|\n",
            "| 33|  m|  42|63.1|32.6|34.9|11.2| 7.01|4.05|105.0|19.1|68.1|0=Blood Donor|   0.0|   0.0|0=Blood Donor|\n",
            "+---+---+----+----+----+----+----+-----+----+-----+----+----+-------------+------+------+-------------+\n",
            "only showing top 20 rows\n",
            "\n"
          ]
        }
      ]
    },
    {
      "cell_type": "code",
      "source": [
        "### Feature \n",
        "df.show()"
      ],
      "metadata": {
        "colab": {
          "base_uri": "https://localhost:8080/"
        },
        "id": "SMHp-KPllWY2",
        "outputId": "91de3eba-38a3-4404-c122-935cb2263059"
      },
      "execution_count": 31,
      "outputs": [
        {
          "output_type": "stream",
          "name": "stdout",
          "text": [
            "+---+---+----+----+----+----+----+-----+----+-----+----+----+-------------+------+------+\n",
            "|Age|Sex| ALB| ALP| ALT| AST| BIL|  CHE|CHOL| CREA| GGT|PROT|     Category|Gender|Target|\n",
            "+---+---+----+----+----+----+----+-----+----+-----+----+----+-------------+------+------+\n",
            "| 32|  m|38.5|52.5| 7.7|22.1| 7.5| 6.93|3.23|106.0|12.1|  69|0=Blood Donor|   0.0|   0.0|\n",
            "| 32|  m|38.5|70.3|  18|24.7| 3.9|11.17| 4.8| 74.0|15.6|76.5|0=Blood Donor|   0.0|   0.0|\n",
            "| 32|  m|46.9|74.7|36.2|52.6| 6.1| 8.84| 5.2| 86.0|33.2|79.3|0=Blood Donor|   0.0|   0.0|\n",
            "| 32|  m|43.2|  52|30.6|22.6|18.9| 7.33|4.74| 80.0|33.8|75.7|0=Blood Donor|   0.0|   0.0|\n",
            "| 32|  m|39.2|74.1|32.6|24.8| 9.6| 9.15|4.32| 76.0|29.9|68.7|0=Blood Donor|   0.0|   0.0|\n",
            "| 32|  m|41.6|43.3|18.5|19.7|12.3| 9.92|6.05|111.0|91.0|  74|0=Blood Donor|   0.0|   0.0|\n",
            "| 32|  m|46.3|41.3|17.5|17.8| 8.5| 7.01|4.79| 70.0|16.9|74.5|0=Blood Donor|   0.0|   0.0|\n",
            "| 32|  m|42.2|41.9|35.8|31.1|16.1| 5.82| 4.6|109.0|21.5|67.1|0=Blood Donor|   0.0|   0.0|\n",
            "| 32|  m|50.9|65.5|23.2|21.2| 6.9| 8.69| 4.1| 83.0|13.7|71.3|0=Blood Donor|   0.0|   0.0|\n",
            "| 32|  m|42.4|86.3|20.3|20.0|35.2| 5.46|4.45| 81.0|15.9|69.9|0=Blood Donor|   0.0|   0.0|\n",
            "| 32|  m|44.3|52.3|21.7|22.4|17.2| 4.15|3.57| 78.0|24.1|75.4|0=Blood Donor|   0.0|   0.0|\n",
            "| 33|  m|46.4|68.2|10.3|20.0| 5.7| 7.36| 4.3| 79.0|18.7|68.6|0=Blood Donor|   0.0|   0.0|\n",
            "| 33|  m|36.3|78.6|23.6|22.0| 7.0| 8.56|5.38| 78.0|19.4|68.7|0=Blood Donor|   0.0|   0.0|\n",
            "| 33|  m|  39|51.7|15.9|24.0| 6.8| 6.46|3.38| 65.0| 7.0|70.4|0=Blood Donor|   0.0|   0.0|\n",
            "| 33|  m|38.7|39.8|22.5|23.0| 4.1| 4.63|4.97| 63.0|15.2|71.9|0=Blood Donor|   0.0|   0.0|\n",
            "| 33|  m|41.8|  65|33.1|38.0| 6.6| 8.83|4.43| 71.0|24.0|72.7|0=Blood Donor|   0.0|   0.0|\n",
            "| 33|  m|40.9|  73|17.2|22.9|10.0| 6.98|5.22| 90.0|14.7|72.4|0=Blood Donor|   0.0|   0.0|\n",
            "| 33|  m|45.2|88.3|32.4|31.2|10.1| 9.78|5.51|102.0|48.5|76.5|0=Blood Donor|   0.0|   0.0|\n",
            "| 33|  m|36.6|57.1|38.9|40.3|24.9| 9.62| 5.5|112.0|27.6|69.3|0=Blood Donor|   0.0|   0.0|\n",
            "| 33|  m|  42|63.1|32.6|34.9|11.2| 7.01|4.05|105.0|19.1|68.1|0=Blood Donor|   0.0|   0.0|\n",
            "+---+---+----+----+----+----+----+-----+----+-----+----+----+-------------+------+------+\n",
            "only showing top 20 rows\n",
            "\n"
          ]
        }
      ]
    },
    {
      "cell_type": "code",
      "source": [
        "print(df.columns)"
      ],
      "metadata": {
        "colab": {
          "base_uri": "https://localhost:8080/"
        },
        "id": "ivTnUeK7lgDt",
        "outputId": "efc7209b-dfcd-4610-8d3a-b7a1f6726a29"
      },
      "execution_count": 32,
      "outputs": [
        {
          "output_type": "stream",
          "name": "stdout",
          "text": [
            "['Age', 'Sex', 'ALB', 'ALP', 'ALT', 'AST', 'BIL', 'CHE', 'CHOL', 'CREA', 'GGT', 'PROT', 'Category', 'Gender', 'Target']\n"
          ]
        }
      ]
    },
    {
      "cell_type": "code",
      "source": [
        "df.dtypes\n"
      ],
      "metadata": {
        "colab": {
          "base_uri": "https://localhost:8080/"
        },
        "id": "bEgoegq1lplX",
        "outputId": "f4b29a1d-9603-4c32-b33b-efa118fe2dde"
      },
      "execution_count": 33,
      "outputs": [
        {
          "output_type": "execute_result",
          "data": {
            "text/plain": [
              "[('Age', 'int'),\n",
              " ('Sex', 'string'),\n",
              " ('ALB', 'string'),\n",
              " ('ALP', 'string'),\n",
              " ('ALT', 'string'),\n",
              " ('AST', 'double'),\n",
              " ('BIL', 'double'),\n",
              " ('CHE', 'double'),\n",
              " ('CHOL', 'string'),\n",
              " ('CREA', 'double'),\n",
              " ('GGT', 'double'),\n",
              " ('PROT', 'string'),\n",
              " ('Category', 'string'),\n",
              " ('Gender', 'double'),\n",
              " ('Target', 'double')]"
            ]
          },
          "metadata": {},
          "execution_count": 33
        }
      ]
    },
    {
      "cell_type": "code",
      "source": [
        "df2 = df.select('Age','Gender', 'ALB', 'ALP', 'ALT', 'AST', 'BIL', 'CHE', 'CHOL', 'CREA', 'GGT', 'PROT', 'Target')\n"
      ],
      "metadata": {
        "id": "Qm_ptK4Olta9"
      },
      "execution_count": 34,
      "outputs": []
    },
    {
      "cell_type": "code",
      "source": [
        "df2.printSchema()\n"
      ],
      "metadata": {
        "colab": {
          "base_uri": "https://localhost:8080/"
        },
        "id": "Guz1ZTJcl44f",
        "outputId": "bc4a3bc4-0ed3-45c5-dbd6-5f4abc1b0430"
      },
      "execution_count": 35,
      "outputs": [
        {
          "output_type": "stream",
          "name": "stdout",
          "text": [
            "root\n",
            " |-- Age: integer (nullable = true)\n",
            " |-- Gender: double (nullable = false)\n",
            " |-- ALB: string (nullable = true)\n",
            " |-- ALP: string (nullable = true)\n",
            " |-- ALT: string (nullable = true)\n",
            " |-- AST: double (nullable = true)\n",
            " |-- BIL: double (nullable = true)\n",
            " |-- CHE: double (nullable = true)\n",
            " |-- CHOL: string (nullable = true)\n",
            " |-- CREA: double (nullable = true)\n",
            " |-- GGT: double (nullable = true)\n",
            " |-- PROT: string (nullable = true)\n",
            " |-- Target: double (nullable = false)\n",
            "\n"
          ]
        }
      ]
    },
    {
      "cell_type": "markdown",
      "source": [
        "## df2.fillna(0,subset=['col1'])\n"
      ],
      "metadata": {
        "id": "6hfz36BImEVV"
      }
    },
    {
      "cell_type": "code",
      "source": [
        "df2 = df2.toPandas().replace('NA',0).astype(float)"
      ],
      "metadata": {
        "id": "002VM6L4mF8x"
      },
      "execution_count": 36,
      "outputs": []
    },
    {
      "cell_type": "code",
      "source": [
        "type(df2)\n"
      ],
      "metadata": {
        "colab": {
          "base_uri": "https://localhost:8080/"
        },
        "id": "OQ360zIUmQgW",
        "outputId": "e964ec9a-3ffa-4ba5-ea73-d928a8ce4ae3"
      },
      "execution_count": 37,
      "outputs": [
        {
          "output_type": "execute_result",
          "data": {
            "text/plain": [
              "pandas.core.frame.DataFrame"
            ]
          },
          "metadata": {},
          "execution_count": 37
        }
      ]
    },
    {
      "cell_type": "code",
      "source": [
        "type(df)\n"
      ],
      "metadata": {
        "colab": {
          "base_uri": "https://localhost:8080/"
        },
        "id": "ITx7VvasmUl3",
        "outputId": "6e3a3fd8-17eb-4108-cc6d-f1696fca175e"
      },
      "execution_count": 38,
      "outputs": [
        {
          "output_type": "execute_result",
          "data": {
            "text/plain": [
              "pyspark.sql.dataframe.DataFrame"
            ]
          },
          "metadata": {},
          "execution_count": 38
        }
      ]
    },
    {
      "cell_type": "code",
      "source": [
        "# Convert To PySpark Dataframe\n",
        "new_df = spark.createDataFrame(df2)\n",
        "new_df.show()\n"
      ],
      "metadata": {
        "colab": {
          "base_uri": "https://localhost:8080/"
        },
        "id": "7Ke0koVpmYrb",
        "outputId": "e5e53cfc-4166-4db4-cb64-b97541686933"
      },
      "execution_count": 40,
      "outputs": [
        {
          "output_type": "stream",
          "name": "stdout",
          "text": [
            "+----+------+----+----+----+----+----+-----+----+-----+----+----+------+\n",
            "| Age|Gender| ALB| ALP| ALT| AST| BIL|  CHE|CHOL| CREA| GGT|PROT|Target|\n",
            "+----+------+----+----+----+----+----+-----+----+-----+----+----+------+\n",
            "|32.0|   0.0|38.5|52.5| 7.7|22.1| 7.5| 6.93|3.23|106.0|12.1|69.0|   0.0|\n",
            "|32.0|   0.0|38.5|70.3|18.0|24.7| 3.9|11.17| 4.8| 74.0|15.6|76.5|   0.0|\n",
            "|32.0|   0.0|46.9|74.7|36.2|52.6| 6.1| 8.84| 5.2| 86.0|33.2|79.3|   0.0|\n",
            "|32.0|   0.0|43.2|52.0|30.6|22.6|18.9| 7.33|4.74| 80.0|33.8|75.7|   0.0|\n",
            "|32.0|   0.0|39.2|74.1|32.6|24.8| 9.6| 9.15|4.32| 76.0|29.9|68.7|   0.0|\n",
            "|32.0|   0.0|41.6|43.3|18.5|19.7|12.3| 9.92|6.05|111.0|91.0|74.0|   0.0|\n",
            "|32.0|   0.0|46.3|41.3|17.5|17.8| 8.5| 7.01|4.79| 70.0|16.9|74.5|   0.0|\n",
            "|32.0|   0.0|42.2|41.9|35.8|31.1|16.1| 5.82| 4.6|109.0|21.5|67.1|   0.0|\n",
            "|32.0|   0.0|50.9|65.5|23.2|21.2| 6.9| 8.69| 4.1| 83.0|13.7|71.3|   0.0|\n",
            "|32.0|   0.0|42.4|86.3|20.3|20.0|35.2| 5.46|4.45| 81.0|15.9|69.9|   0.0|\n",
            "|32.0|   0.0|44.3|52.3|21.7|22.4|17.2| 4.15|3.57| 78.0|24.1|75.4|   0.0|\n",
            "|33.0|   0.0|46.4|68.2|10.3|20.0| 5.7| 7.36| 4.3| 79.0|18.7|68.6|   0.0|\n",
            "|33.0|   0.0|36.3|78.6|23.6|22.0| 7.0| 8.56|5.38| 78.0|19.4|68.7|   0.0|\n",
            "|33.0|   0.0|39.0|51.7|15.9|24.0| 6.8| 6.46|3.38| 65.0| 7.0|70.4|   0.0|\n",
            "|33.0|   0.0|38.7|39.8|22.5|23.0| 4.1| 4.63|4.97| 63.0|15.2|71.9|   0.0|\n",
            "|33.0|   0.0|41.8|65.0|33.1|38.0| 6.6| 8.83|4.43| 71.0|24.0|72.7|   0.0|\n",
            "|33.0|   0.0|40.9|73.0|17.2|22.9|10.0| 6.98|5.22| 90.0|14.7|72.4|   0.0|\n",
            "|33.0|   0.0|45.2|88.3|32.4|31.2|10.1| 9.78|5.51|102.0|48.5|76.5|   0.0|\n",
            "|33.0|   0.0|36.6|57.1|38.9|40.3|24.9| 9.62| 5.5|112.0|27.6|69.3|   0.0|\n",
            "|33.0|   0.0|42.0|63.1|32.6|34.9|11.2| 7.01|4.05|105.0|19.1|68.1|   0.0|\n",
            "+----+------+----+----+----+----+----+-----+----+-----+----+----+------+\n",
            "only showing top 20 rows\n",
            "\n"
          ]
        }
      ]
    },
    {
      "cell_type": "code",
      "source": [
        "# Check For DTYpes and Schema\n",
        "new_df.printSchema()"
      ],
      "metadata": {
        "colab": {
          "base_uri": "https://localhost:8080/"
        },
        "id": "VFf1G1A_mf4t",
        "outputId": "7e592937-c459-48da-c27a-c88488aca0f7"
      },
      "execution_count": 41,
      "outputs": [
        {
          "output_type": "stream",
          "name": "stdout",
          "text": [
            "root\n",
            " |-- Age: double (nullable = true)\n",
            " |-- Gender: double (nullable = true)\n",
            " |-- ALB: double (nullable = true)\n",
            " |-- ALP: double (nullable = true)\n",
            " |-- ALT: double (nullable = true)\n",
            " |-- AST: double (nullable = true)\n",
            " |-- BIL: double (nullable = true)\n",
            " |-- CHE: double (nullable = true)\n",
            " |-- CHOL: double (nullable = true)\n",
            " |-- CREA: double (nullable = true)\n",
            " |-- GGT: double (nullable = true)\n",
            " |-- PROT: double (nullable = true)\n",
            " |-- Target: double (nullable = true)\n",
            "\n"
          ]
        }
      ]
    },
    {
      "cell_type": "code",
      "source": [
        "required_features = ['Age','Gender', 'ALB', 'ALP', 'ALT', 'AST', 'BIL', 'CHE', 'CHOL', 'CREA', 'GGT', 'PROT', 'Target']\n"
      ],
      "metadata": {
        "id": "JOoJttGLm2NY"
      },
      "execution_count": 42,
      "outputs": []
    },
    {
      "cell_type": "code",
      "source": [
        "# VectorAsm\n",
        "vec_assembler = VectorAssembler(inputCols=required_features,outputCol='features')"
      ],
      "metadata": {
        "id": "HNmEnj6um7Hq"
      },
      "execution_count": 43,
      "outputs": []
    },
    {
      "cell_type": "code",
      "source": [
        "vec_df = vec_assembler.transform(new_df)\n"
      ],
      "metadata": {
        "id": "iUdR-RnxnVyc"
      },
      "execution_count": 44,
      "outputs": []
    },
    {
      "cell_type": "code",
      "source": [
        "vec_df.show(5)\n"
      ],
      "metadata": {
        "colab": {
          "base_uri": "https://localhost:8080/"
        },
        "id": "VvbRQhDNnZOd",
        "outputId": "6dcacdb8-1114-4acd-ae82-1908970747ae"
      },
      "execution_count": 45,
      "outputs": [
        {
          "output_type": "stream",
          "name": "stdout",
          "text": [
            "+----+------+----+----+----+----+----+-----+----+-----+----+----+------+--------------------+\n",
            "| Age|Gender| ALB| ALP| ALT| AST| BIL|  CHE|CHOL| CREA| GGT|PROT|Target|            features|\n",
            "+----+------+----+----+----+----+----+-----+----+-----+----+----+------+--------------------+\n",
            "|32.0|   0.0|38.5|52.5| 7.7|22.1| 7.5| 6.93|3.23|106.0|12.1|69.0|   0.0|[32.0,0.0,38.5,52...|\n",
            "|32.0|   0.0|38.5|70.3|18.0|24.7| 3.9|11.17| 4.8| 74.0|15.6|76.5|   0.0|[32.0,0.0,38.5,70...|\n",
            "|32.0|   0.0|46.9|74.7|36.2|52.6| 6.1| 8.84| 5.2| 86.0|33.2|79.3|   0.0|[32.0,0.0,46.9,74...|\n",
            "|32.0|   0.0|43.2|52.0|30.6|22.6|18.9| 7.33|4.74| 80.0|33.8|75.7|   0.0|[32.0,0.0,43.2,52...|\n",
            "|32.0|   0.0|39.2|74.1|32.6|24.8| 9.6| 9.15|4.32| 76.0|29.9|68.7|   0.0|[32.0,0.0,39.2,74...|\n",
            "+----+------+----+----+----+----+----+-----+----+-----+----+----+------+--------------------+\n",
            "only showing top 5 rows\n",
            "\n"
          ]
        }
      ]
    },
    {
      "cell_type": "markdown",
      "source": [
        "##Train,Test Split\n"
      ],
      "metadata": {
        "id": "sNHqgBJxnjdk"
      }
    },
    {
      "cell_type": "code",
      "source": [
        "\n",
        "train_df,test_df = vec_df.randomSplit([0.7,0.3])"
      ],
      "metadata": {
        "id": "LEPjY8TwnmAW"
      },
      "execution_count": 46,
      "outputs": []
    },
    {
      "cell_type": "code",
      "source": [
        "train_df.count()\n"
      ],
      "metadata": {
        "colab": {
          "base_uri": "https://localhost:8080/"
        },
        "id": "ermSPv1gnxZE",
        "outputId": "affa68d8-8ded-4819-853f-cb74f41d7511"
      },
      "execution_count": 47,
      "outputs": [
        {
          "output_type": "execute_result",
          "data": {
            "text/plain": [
              "435"
            ]
          },
          "metadata": {},
          "execution_count": 47
        }
      ]
    },
    {
      "cell_type": "code",
      "source": [
        "train_df.show(4)\n"
      ],
      "metadata": {
        "colab": {
          "base_uri": "https://localhost:8080/"
        },
        "id": "bOJNHDyFn0zx",
        "outputId": "7501b40c-dfda-4ec7-b64a-175b012c06f1"
      },
      "execution_count": 48,
      "outputs": [
        {
          "output_type": "stream",
          "name": "stdout",
          "text": [
            "+----+------+----+----+----+----+----+-----+----+-----+----+----+------+--------------------+\n",
            "| Age|Gender| ALB| ALP| ALT| AST| BIL|  CHE|CHOL| CREA| GGT|PROT|Target|            features|\n",
            "+----+------+----+----+----+----+----+-----+----+-----+----+----+------+--------------------+\n",
            "|32.0|   0.0|38.5|52.5| 7.7|22.1| 7.5| 6.93|3.23|106.0|12.1|69.0|   0.0|[32.0,0.0,38.5,52...|\n",
            "|32.0|   0.0|38.5|70.3|18.0|24.7| 3.9|11.17| 4.8| 74.0|15.6|76.5|   0.0|[32.0,0.0,38.5,70...|\n",
            "|32.0|   0.0|39.2|74.1|32.6|24.8| 9.6| 9.15|4.32| 76.0|29.9|68.7|   0.0|[32.0,0.0,39.2,74...|\n",
            "|32.0|   0.0|41.6|43.3|18.5|19.7|12.3| 9.92|6.05|111.0|91.0|74.0|   0.0|[32.0,0.0,41.6,43...|\n",
            "+----+------+----+----+----+----+----+-----+----+-----+----+----+------+--------------------+\n",
            "only showing top 4 rows\n",
            "\n"
          ]
        }
      ]
    },
    {
      "cell_type": "markdown",
      "source": [
        "#### Model Building\n",
        "+ Pyspark.ml: DataFrame\n",
        "+ Pyspark.mllib: RDD /Legacy"
      ],
      "metadata": {
        "id": "A0rx7z6CoDi9"
      }
    },
    {
      "cell_type": "code",
      "source": [
        "from pyspark.ml.classification import LogisticRegression,DecisionTreeClassifier\n"
      ],
      "metadata": {
        "id": "np0UVmSNoEWC"
      },
      "execution_count": 49,
      "outputs": []
    },
    {
      "cell_type": "code",
      "source": [
        "# Logist Model\n",
        "lr = LogisticRegression(featuresCol='features',labelCol='Target')"
      ],
      "metadata": {
        "id": "ZPQBFELgoKWu"
      },
      "execution_count": 50,
      "outputs": []
    },
    {
      "cell_type": "code",
      "source": [
        "lr_model = lr.fit(train_df)\n"
      ],
      "metadata": {
        "id": "oU1sbrCMoY5L"
      },
      "execution_count": 51,
      "outputs": []
    },
    {
      "cell_type": "code",
      "source": [
        "y_pred = lr_model.transform(test_df)"
      ],
      "metadata": {
        "id": "WidN0RTtogfn"
      },
      "execution_count": 52,
      "outputs": []
    },
    {
      "cell_type": "code",
      "source": [
        "y_pred.show()\n"
      ],
      "metadata": {
        "colab": {
          "base_uri": "https://localhost:8080/"
        },
        "id": "1B923eVnon8x",
        "outputId": "f73f2d14-a162-459f-803e-eedcfa9b70f5"
      },
      "execution_count": 53,
      "outputs": [
        {
          "output_type": "stream",
          "name": "stdout",
          "text": [
            "+----+------+----+-----+----+----+----+-----+----+-----+----+----+------+--------------------+--------------------+--------------------+----------+\n",
            "| Age|Gender| ALB|  ALP| ALT| AST| BIL|  CHE|CHOL| CREA| GGT|PROT|Target|            features|       rawPrediction|         probability|prediction|\n",
            "+----+------+----+-----+----+----+----+-----+----+-----+----+----+------+--------------------+--------------------+--------------------+----------+\n",
            "|32.0|   0.0|42.4| 86.3|20.3|20.0|35.2| 5.46|4.45| 81.0|15.9|69.9|   0.0|[32.0,0.0,42.4,86...|[159.371985367422...|[1.0,3.7579579371...|       0.0|\n",
            "|32.0|   0.0|46.9| 74.7|36.2|52.6| 6.1| 8.84| 5.2| 86.0|33.2|79.3|   0.0|[32.0,0.0,46.9,74...|[144.223810608784...|[0.99999999999998...|       0.0|\n",
            "|32.0|   0.0|50.9| 65.5|23.2|21.2| 6.9| 8.69| 4.1| 83.0|13.7|71.3|   0.0|[32.0,0.0,50.9,65...|[188.258678553993...|[1.0,5.0771088377...|       0.0|\n",
            "|33.0|   0.0|36.3| 78.6|23.6|22.0| 7.0| 8.56|5.38| 78.0|19.4|68.7|   0.0|[33.0,0.0,36.3,78...|[168.288439919575...|[1.0,4.4955908116...|       0.0|\n",
            "|33.0|   0.0|39.0| 51.7|15.9|24.0| 6.8| 6.46|3.38| 65.0| 7.0|70.4|   0.0|[33.0,0.0,39.0,51...|[163.124844124405...|[1.0,3.0523056294...|       0.0|\n",
            "|33.0|   0.0|40.9| 73.0|17.2|22.9|10.0| 6.98|5.22| 90.0|14.7|72.4|   0.0|[33.0,0.0,40.9,73...|[162.492778409898...|[1.0,8.8531962871...|       0.0|\n",
            "|33.0|   0.0|41.8| 65.0|33.1|38.0| 6.6| 8.83|4.43| 71.0|24.0|72.7|   0.0|[33.0,0.0,41.8,65...|[158.668658915758...|[1.0,2.8180632107...|       0.0|\n",
            "|33.0|   0.0|45.2| 88.3|32.4|31.2|10.1| 9.78|5.51|102.0|48.5|76.5|   0.0|[33.0,0.0,45.2,88...|[157.456719288586...|[1.0,4.0496331508...|       0.0|\n",
            "|33.0|   0.0|46.4| 68.2|10.3|20.0| 5.7| 7.36| 4.3| 79.0|18.7|68.6|   0.0|[33.0,0.0,46.4,68...|[177.726383382722...|[1.0,6.7073578974...|       0.0|\n",
            "|34.0|   0.0|41.8| 75.8|30.9|35.5| 6.1| 9.97|5.94| 89.0|48.5|71.3|   0.0|[34.0,0.0,41.8,75...|[153.049934734892...|[1.0,1.6460835404...|       0.0|\n",
            "|34.0|   0.0|42.6| 27.0|21.4|21.7| 7.2| 8.15|6.79| 85.0|13.9|67.7|   0.0|[34.0,0.0,42.6,27...|[160.805847205743...|[1.0,3.1659168185...|       0.0|\n",
            "|34.0|   0.0|43.6| 58.9|47.1|31.1|18.5| 9.14|4.99| 95.0|22.2|69.3|   0.0|[34.0,0.0,43.6,58...|[166.484803625155...|[1.0,3.7035468625...|       0.0|\n",
            "|34.0|   0.0|44.8| 77.7|36.9|31.0|19.5|10.51|5.59| 80.0|23.7|78.9|   0.0|[34.0,0.0,44.8,77...|[157.306613331598...|[1.0,4.6307703869...|       0.0|\n",
            "|34.0|   0.0|46.8| 61.7|24.5|24.2|23.1|10.99| 4.6| 83.0|23.8|73.1|   0.0|[34.0,0.0,46.8,61...|[158.162964846284...|[1.0,3.7237953995...|       0.0|\n",
            "|35.0|   0.0|44.7| 79.3|53.5|30.8| 9.7|11.39|7.04| 88.0|77.3|77.1|   0.0|[35.0,0.0,44.7,79...|[158.455564593558...|[1.0,3.0035926399...|       0.0|\n",
            "|36.0|   0.0|42.4| 47.3|23.0|25.5| 6.1| 9.46|5.29| 79.0|17.5|73.8|   0.0|[36.0,0.0,42.4,47...|[158.944648579111...|[1.0,1.7531103809...|       0.0|\n",
            "|36.0|   0.0|45.5| 57.6|22.5|19.5| 7.5| 5.28|4.06| 88.0|62.5|71.6|   0.0|[36.0,0.0,45.5,57...|[161.079318770734...|[1.0,1.0183094051...|       0.0|\n",
            "|36.0|   0.0|45.9| 58.8|29.7|27.7|11.7|  5.6|4.89| 93.0|23.1|70.8|   0.0|[36.0,0.0,45.9,58...|[167.390059883439...|[1.0,1.1978505985...|       0.0|\n",
            "|36.0|   0.0|53.0| 66.4|40.8|23.2| 7.5| 8.73|5.81| 75.0|36.1|77.3|   0.0|[36.0,0.0,53.0,66...|[186.647096164072...|[1.0,1.9195282520...|       0.0|\n",
            "|37.0|   0.0|31.4|106.0|16.6|17.0| 2.4| 5.95| 5.3| 68.0|22.9|72.3|   0.0|[37.0,0.0,31.4,10...|[170.787770812155...|[1.0,3.4264643255...|       0.0|\n",
            "+----+------+----+-----+----+----+----+-----+----+-----+----+----+------+--------------------+--------------------+--------------------+----------+\n",
            "only showing top 20 rows\n",
            "\n"
          ]
        }
      ]
    },
    {
      "cell_type": "code",
      "source": [
        "print(y_pred.columns)"
      ],
      "metadata": {
        "colab": {
          "base_uri": "https://localhost:8080/"
        },
        "id": "ne0_x_PyozhI",
        "outputId": "4a8c1730-73d9-4c1b-fdad-19232f381bef"
      },
      "execution_count": 54,
      "outputs": [
        {
          "output_type": "stream",
          "name": "stdout",
          "text": [
            "['Age', 'Gender', 'ALB', 'ALP', 'ALT', 'AST', 'BIL', 'CHE', 'CHOL', 'CREA', 'GGT', 'PROT', 'Target', 'features', 'rawPrediction', 'probability', 'prediction']\n"
          ]
        }
      ]
    },
    {
      "cell_type": "code",
      "source": [
        "y_pred.select('target','rawPrediction', 'probability', 'prediction').show()\n"
      ],
      "metadata": {
        "colab": {
          "base_uri": "https://localhost:8080/"
        },
        "id": "Yt6z9B_Xo0O_",
        "outputId": "34dda1ef-cc23-4f28-f97b-dedb42bcc544"
      },
      "execution_count": 55,
      "outputs": [
        {
          "output_type": "stream",
          "name": "stdout",
          "text": [
            "+------+--------------------+--------------------+----------+\n",
            "|target|       rawPrediction|         probability|prediction|\n",
            "+------+--------------------+--------------------+----------+\n",
            "|   0.0|[159.371985367422...|[1.0,3.7579579371...|       0.0|\n",
            "|   0.0|[144.223810608784...|[0.99999999999998...|       0.0|\n",
            "|   0.0|[188.258678553993...|[1.0,5.0771088377...|       0.0|\n",
            "|   0.0|[168.288439919575...|[1.0,4.4955908116...|       0.0|\n",
            "|   0.0|[163.124844124405...|[1.0,3.0523056294...|       0.0|\n",
            "|   0.0|[162.492778409898...|[1.0,8.8531962871...|       0.0|\n",
            "|   0.0|[158.668658915758...|[1.0,2.8180632107...|       0.0|\n",
            "|   0.0|[157.456719288586...|[1.0,4.0496331508...|       0.0|\n",
            "|   0.0|[177.726383382722...|[1.0,6.7073578974...|       0.0|\n",
            "|   0.0|[153.049934734892...|[1.0,1.6460835404...|       0.0|\n",
            "|   0.0|[160.805847205743...|[1.0,3.1659168185...|       0.0|\n",
            "|   0.0|[166.484803625155...|[1.0,3.7035468625...|       0.0|\n",
            "|   0.0|[157.306613331598...|[1.0,4.6307703869...|       0.0|\n",
            "|   0.0|[158.162964846284...|[1.0,3.7237953995...|       0.0|\n",
            "|   0.0|[158.455564593558...|[1.0,3.0035926399...|       0.0|\n",
            "|   0.0|[158.944648579111...|[1.0,1.7531103809...|       0.0|\n",
            "|   0.0|[161.079318770734...|[1.0,1.0183094051...|       0.0|\n",
            "|   0.0|[167.390059883439...|[1.0,1.1978505985...|       0.0|\n",
            "|   0.0|[186.647096164072...|[1.0,1.9195282520...|       0.0|\n",
            "|   0.0|[170.787770812155...|[1.0,3.4264643255...|       0.0|\n",
            "+------+--------------------+--------------------+----------+\n",
            "only showing top 20 rows\n",
            "\n"
          ]
        }
      ]
    },
    {
      "cell_type": "markdown",
      "source": [
        "##Model Evaluation\n"
      ],
      "metadata": {
        "id": "jpP_KHiBpNjs"
      }
    },
    {
      "cell_type": "code",
      "source": [
        "from pyspark.ml.evaluation import MulticlassClassificationEvaluator"
      ],
      "metadata": {
        "id": "paCcpV9bpPDE"
      },
      "execution_count": 56,
      "outputs": []
    },
    {
      "cell_type": "code",
      "source": [
        "# How to Check For Accuracy\n",
        "multi_evaluator = MulticlassClassificationEvaluator(labelCol='Target',metricName='accuracy')"
      ],
      "metadata": {
        "id": "Twsf--HFpWkL"
      },
      "execution_count": 57,
      "outputs": []
    },
    {
      "cell_type": "code",
      "source": [
        "multi_evaluator.evaluate(y_pred)"
      ],
      "metadata": {
        "colab": {
          "base_uri": "https://localhost:8080/"
        },
        "id": "b4t3e4OspcoW",
        "outputId": "ece38007-d887-4622-9dc1-6f9d7f1c32f8"
      },
      "execution_count": 58,
      "outputs": [
        {
          "output_type": "execute_result",
          "data": {
            "text/plain": [
              "0.95"
            ]
          },
          "metadata": {},
          "execution_count": 58
        }
      ]
    },
    {
      "cell_type": "markdown",
      "source": [
        "### Precision,F1 Score,Recall : Classification Report\n"
      ],
      "metadata": {
        "id": "_5KvLDlIpqdt"
      }
    },
    {
      "cell_type": "code",
      "source": [
        "from pyspark.mllib.evaluation import MulticlassMetrics"
      ],
      "metadata": {
        "id": "4DF3sW_bpslv"
      },
      "execution_count": 59,
      "outputs": []
    },
    {
      "cell_type": "code",
      "source": [
        "lr_metric = MulticlassMetrics(y_pred['target', 'prediction'].rdd)\n"
      ],
      "metadata": {
        "colab": {
          "base_uri": "https://localhost:8080/"
        },
        "id": "4kPmmx1opz3H",
        "outputId": "30c53c31-9bd8-4e02-8dd8-16032710550d"
      },
      "execution_count": 60,
      "outputs": [
        {
          "output_type": "stream",
          "name": "stderr",
          "text": [
            "/usr/local/lib/python3.7/dist-packages/pyspark/sql/context.py:159: FutureWarning: Deprecated in 3.0.0. Use SparkSession.builder.getOrCreate() instead.\n",
            "  FutureWarning,\n"
          ]
        }
      ]
    },
    {
      "cell_type": "code",
      "source": [
        "dir(lr_metric)\n"
      ],
      "metadata": {
        "colab": {
          "base_uri": "https://localhost:8080/"
        },
        "id": "2lgzAH7np5x1",
        "outputId": "be10ffda-7704-4cd6-bfc4-782491c168dd"
      },
      "execution_count": 61,
      "outputs": [
        {
          "output_type": "execute_result",
          "data": {
            "text/plain": [
              "['__class__',\n",
              " '__del__',\n",
              " '__delattr__',\n",
              " '__dict__',\n",
              " '__dir__',\n",
              " '__doc__',\n",
              " '__eq__',\n",
              " '__format__',\n",
              " '__ge__',\n",
              " '__getattribute__',\n",
              " '__gt__',\n",
              " '__hash__',\n",
              " '__init__',\n",
              " '__init_subclass__',\n",
              " '__le__',\n",
              " '__lt__',\n",
              " '__module__',\n",
              " '__ne__',\n",
              " '__new__',\n",
              " '__reduce__',\n",
              " '__reduce_ex__',\n",
              " '__repr__',\n",
              " '__setattr__',\n",
              " '__sizeof__',\n",
              " '__str__',\n",
              " '__subclasshook__',\n",
              " '__weakref__',\n",
              " '_java_model',\n",
              " '_sc',\n",
              " 'accuracy',\n",
              " 'call',\n",
              " 'confusionMatrix',\n",
              " 'fMeasure',\n",
              " 'falsePositiveRate',\n",
              " 'logLoss',\n",
              " 'precision',\n",
              " 'recall',\n",
              " 'truePositiveRate',\n",
              " 'weightedFMeasure',\n",
              " 'weightedFalsePositiveRate',\n",
              " 'weightedPrecision',\n",
              " 'weightedRecall',\n",
              " 'weightedTruePositiveRate']"
            ]
          },
          "metadata": {},
          "execution_count": 61
        }
      ]
    },
    {
      "cell_type": "code",
      "source": [
        "print(\"Accuracy\",lr_metric.accuracy)\n"
      ],
      "metadata": {
        "colab": {
          "base_uri": "https://localhost:8080/"
        },
        "id": "ov8je_e6p_gA",
        "outputId": "e271623a-ee74-494d-d7b0-42064835608b"
      },
      "execution_count": 62,
      "outputs": [
        {
          "output_type": "stream",
          "name": "stdout",
          "text": [
            "Accuracy 0.95\n"
          ]
        }
      ]
    },
    {
      "cell_type": "code",
      "source": [
        "print(\"Precision\",lr_metric.precision(1.0))\n",
        "print(\"Recall\",lr_metric.recall(1.0))\n",
        "print(\"F1Score\",lr_metric.fMeasure(1.0))"
      ],
      "metadata": {
        "colab": {
          "base_uri": "https://localhost:8080/"
        },
        "id": "7gaEZ9BbqH-y",
        "outputId": "3cdd6020-4787-4293-af27-152f905518a5"
      },
      "execution_count": 63,
      "outputs": [
        {
          "output_type": "stream",
          "name": "stdout",
          "text": [
            "Precision 0.5\n",
            "Recall 1.0\n",
            "F1Score 0.6666666666666666\n"
          ]
        }
      ]
    },
    {
      "cell_type": "code",
      "source": [
        "dir(lr_model)\n"
      ],
      "metadata": {
        "colab": {
          "base_uri": "https://localhost:8080/"
        },
        "id": "L_8Zad3HqNlg",
        "outputId": "c1c11154-cebe-4fc9-dd65-ac8df6c65856"
      },
      "execution_count": 64,
      "outputs": [
        {
          "output_type": "execute_result",
          "data": {
            "text/plain": [
              "['__abstractmethods__',\n",
              " '__annotations__',\n",
              " '__class__',\n",
              " '__class_getitem__',\n",
              " '__del__',\n",
              " '__delattr__',\n",
              " '__dict__',\n",
              " '__dir__',\n",
              " '__doc__',\n",
              " '__eq__',\n",
              " '__format__',\n",
              " '__ge__',\n",
              " '__getattribute__',\n",
              " '__gt__',\n",
              " '__hash__',\n",
              " '__init__',\n",
              " '__init_subclass__',\n",
              " '__le__',\n",
              " '__lt__',\n",
              " '__module__',\n",
              " '__ne__',\n",
              " '__new__',\n",
              " '__orig_bases__',\n",
              " '__parameters__',\n",
              " '__reduce__',\n",
              " '__reduce_ex__',\n",
              " '__repr__',\n",
              " '__setattr__',\n",
              " '__sizeof__',\n",
              " '__slots__',\n",
              " '__str__',\n",
              " '__subclasshook__',\n",
              " '__weakref__',\n",
              " '_abc_impl',\n",
              " '_call_java',\n",
              " '_checkThresholdConsistency',\n",
              " '_copyValues',\n",
              " '_copy_params',\n",
              " '_create_from_java_class',\n",
              " '_create_params_from_java',\n",
              " '_defaultParamMap',\n",
              " '_dummy',\n",
              " '_empty_java_param_map',\n",
              " '_from_java',\n",
              " '_java_obj',\n",
              " '_make_java_param_pair',\n",
              " '_new_java_array',\n",
              " '_new_java_obj',\n",
              " '_paramMap',\n",
              " '_params',\n",
              " '_randomUID',\n",
              " '_resetUid',\n",
              " '_resolveParam',\n",
              " '_set',\n",
              " '_setDefault',\n",
              " '_shouldOwn',\n",
              " '_testOwnParam',\n",
              " '_to_java',\n",
              " '_transfer_param_map_from_java',\n",
              " '_transfer_param_map_to_java',\n",
              " '_transfer_params_from_java',\n",
              " '_transfer_params_to_java',\n",
              " '_transform',\n",
              " 'aggregationDepth',\n",
              " 'clear',\n",
              " 'coefficientMatrix',\n",
              " 'coefficients',\n",
              " 'copy',\n",
              " 'elasticNetParam',\n",
              " 'evaluate',\n",
              " 'explainParam',\n",
              " 'explainParams',\n",
              " 'extractParamMap',\n",
              " 'family',\n",
              " 'featuresCol',\n",
              " 'fitIntercept',\n",
              " 'getAggregationDepth',\n",
              " 'getElasticNetParam',\n",
              " 'getFamily',\n",
              " 'getFeaturesCol',\n",
              " 'getFitIntercept',\n",
              " 'getLabelCol',\n",
              " 'getLowerBoundsOnCoefficients',\n",
              " 'getLowerBoundsOnIntercepts',\n",
              " 'getMaxBlockSizeInMB',\n",
              " 'getMaxIter',\n",
              " 'getOrDefault',\n",
              " 'getParam',\n",
              " 'getPredictionCol',\n",
              " 'getProbabilityCol',\n",
              " 'getRawPredictionCol',\n",
              " 'getRegParam',\n",
              " 'getStandardization',\n",
              " 'getThreshold',\n",
              " 'getThresholds',\n",
              " 'getTol',\n",
              " 'getUpperBoundsOnCoefficients',\n",
              " 'getUpperBoundsOnIntercepts',\n",
              " 'getWeightCol',\n",
              " 'hasDefault',\n",
              " 'hasParam',\n",
              " 'hasSummary',\n",
              " 'intercept',\n",
              " 'interceptVector',\n",
              " 'isDefined',\n",
              " 'isSet',\n",
              " 'labelCol',\n",
              " 'load',\n",
              " 'lowerBoundsOnCoefficients',\n",
              " 'lowerBoundsOnIntercepts',\n",
              " 'maxBlockSizeInMB',\n",
              " 'maxIter',\n",
              " 'numClasses',\n",
              " 'numFeatures',\n",
              " 'params',\n",
              " 'predict',\n",
              " 'predictProbability',\n",
              " 'predictRaw',\n",
              " 'predictionCol',\n",
              " 'probabilityCol',\n",
              " 'rawPredictionCol',\n",
              " 'read',\n",
              " 'regParam',\n",
              " 'save',\n",
              " 'set',\n",
              " 'setFeaturesCol',\n",
              " 'setPredictionCol',\n",
              " 'setProbabilityCol',\n",
              " 'setRawPredictionCol',\n",
              " 'setThreshold',\n",
              " 'setThresholds',\n",
              " 'standardization',\n",
              " 'summary',\n",
              " 'threshold',\n",
              " 'thresholds',\n",
              " 'tol',\n",
              " 'transform',\n",
              " 'uid',\n",
              " 'upperBoundsOnCoefficients',\n",
              " 'upperBoundsOnIntercepts',\n",
              " 'weightCol',\n",
              " 'write']"
            ]
          },
          "metadata": {},
          "execution_count": 64
        }
      ]
    },
    {
      "cell_type": "code",
      "source": [
        ""
      ],
      "metadata": {
        "id": "8q4sBrdUqSVo"
      },
      "execution_count": null,
      "outputs": []
    }
  ]
}