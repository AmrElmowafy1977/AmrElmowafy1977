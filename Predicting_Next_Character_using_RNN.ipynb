{
  "nbformat": 4,
  "nbformat_minor": 0,
  "metadata": {
    "colab": {
      "name": "Predicting-Next-Character-using-RNN.ipynb",
      "provenance": [],
      "collapsed_sections": [],
      "authorship_tag": "ABX9TyONSxsYbb6G70R1tmpfl/Uf",
      "include_colab_link": true
    },
    "kernelspec": {
      "name": "python3",
      "display_name": "Python 3"
    },
    "language_info": {
      "name": "python"
    }
  },
  "cells": [
    {
      "cell_type": "markdown",
      "metadata": {
        "id": "view-in-github",
        "colab_type": "text"
      },
      "source": [
        "<a href=\"https://colab.research.google.com/github/AmrElmowafy1977/AmrElmowafy1977/blob/main/Predicting_Next_Character_using_RNN.ipynb\" target=\"_parent\"><img src=\"https://colab.research.google.com/assets/colab-badge.svg\" alt=\"Open In Colab\"/></a>"
      ]
    },
    {
      "cell_type": "markdown",
      "source": [
        "#Import Libraries"
      ],
      "metadata": {
        "id": "QQbEyUPsd3oe"
      }
    },
    {
      "cell_type": "code",
      "source": [
        "import numpy as np\n",
        "import pandas as pd\n",
        "import matplotlib.pyplot as plt\n",
        "%matplotlib inline\n",
        "from keras.utils.data_utils import get_file"
      ],
      "metadata": {
        "id": "YiHuyN_zegFI"
      },
      "execution_count": 2,
      "outputs": []
    },
    {
      "cell_type": "code",
      "source": [
        "from tensorflow.keras.models import Sequential\n",
        "from tensorflow.keras.layers import (\n",
        "    BatchNormalization, SeparableConv2D, MaxPooling2D, Activation, Flatten, Dropout, Dense\n",
        ")"
      ],
      "metadata": {
        "id": "MTVp4Hqmehdz"
      },
      "execution_count": 6,
      "outputs": []
    },
    {
      "cell_type": "code",
      "source": [
        "path = get_file('nietzsche.txt', origin=\"https://s3.amazonaws.com/text-datasets/nietzsche.txt\")\n",
        "text = open(path).read()"
      ],
      "metadata": {
        "colab": {
          "base_uri": "https://localhost:8080/"
        },
        "id": "pOcWLp8CgI9F",
        "outputId": "c6a4d4d1-d3a7-4482-cdff-8cad2207677c"
      },
      "execution_count": 7,
      "outputs": [
        {
          "output_type": "stream",
          "name": "stdout",
          "text": [
            "Downloading data from https://s3.amazonaws.com/text-datasets/nietzsche.txt\n",
            "606208/600901 [==============================] - 0s 1us/step\n",
            "614400/600901 [==============================] - 0s 1us/step\n"
          ]
        }
      ]
    },
    {
      "cell_type": "markdown",
      "source": [
        "#Creating a vocabulary of unique characters"
      ],
      "metadata": {
        "id": "J_s0GEH7gPuf"
      }
    },
    {
      "cell_type": "code",
      "source": [
        "chars = sorted(list(set(text)))\n",
        "print(len(chars)+1)"
      ],
      "metadata": {
        "colab": {
          "base_uri": "https://localhost:8080/"
        },
        "id": "DnUSvktvgQ-2",
        "outputId": "8564afdc-ec46-442e-da6d-9c4b800dfef1"
      },
      "execution_count": 8,
      "outputs": [
        {
          "output_type": "stream",
          "name": "stdout",
          "text": [
            "85\n"
          ]
        }
      ]
    },
    {
      "cell_type": "code",
      "source": [
        "chars.insert(0, '\\0')"
      ],
      "metadata": {
        "id": "JMmCItx5gkkV"
      },
      "execution_count": 9,
      "outputs": []
    },
    {
      "cell_type": "markdown",
      "source": [
        "#Creating a dictionary, mapping characters to index and index to characters"
      ],
      "metadata": {
        "id": "iCLDcGHugo1S"
      }
    },
    {
      "cell_type": "code",
      "source": [
        "char_to_index = {v:i for i,v in enumerate(chars)}\n",
        "index_to_char = {i:v for i,v in enumerate(chars)}"
      ],
      "metadata": {
        "id": "NigTBCXmgqnp"
      },
      "execution_count": 10,
      "outputs": []
    },
    {
      "cell_type": "markdown",
      "source": [
        "#Converting the entire nietzsche text into index of characters"
      ],
      "metadata": {
        "id": "dcaQi5LWgwQ1"
      }
    },
    {
      "cell_type": "code",
      "source": [
        "total_index = [char_to_index[char] for char in text]\n",
        "total_index[:10]"
      ],
      "metadata": {
        "colab": {
          "base_uri": "https://localhost:8080/"
        },
        "id": "wbEeijwegx1P",
        "outputId": "141c1ea0-ac92-4e78-8d60-1cf4acb6b8fb"
      },
      "execution_count": 11,
      "outputs": [
        {
          "output_type": "execute_result",
          "data": {
            "text/plain": [
              "[40, 42, 29, 30, 25, 27, 29, 1, 1, 1]"
            ]
          },
          "metadata": {},
          "execution_count": 11
        }
      ]
    },
    {
      "cell_type": "code",
      "source": [
        "''.join(index_to_char[i] for i in total_index[:25])"
      ],
      "metadata": {
        "colab": {
          "base_uri": "https://localhost:8080/",
          "height": 35
        },
        "id": "0nN0WlaIg4Rt",
        "outputId": "a6f313a9-ea85-4633-d568-db953e5f804d"
      },
      "execution_count": 12,
      "outputs": [
        {
          "output_type": "execute_result",
          "data": {
            "text/plain": [
              "'PREFACE\\n\\n\\nSUPPOSING that '"
            ],
            "application/vnd.google.colaboratory.intrinsic+json": {
              "type": "string"
            }
          },
          "metadata": {},
          "execution_count": 12
        }
      ]
    },
    {
      "cell_type": "code",
      "source": [
        "pred_num = 25\n",
        "xin = [[total_index[j+i] for j in range(0, len(total_index)-1-pred_num, pred_num)] for i in range(pred_num)]\n",
        "y = [total_index[i+pred_num] for i in range(0, len(total_index)-1-pred_num, pred_num)]"
      ],
      "metadata": {
        "id": "NoAt1CguiGyE"
      },
      "execution_count": 18,
      "outputs": []
    },
    {
      "cell_type": "markdown",
      "source": [
        "#We are removing the last 2 characters to keep the length of each array equal"
      ],
      "metadata": {
        "id": "XZSplWSWiNp7"
      }
    },
    {
      "cell_type": "code",
      "source": [
        "X = [np.stack(xin[i][:-2]) for i in range(pred_num)]\n",
        "Y = np.stack(y[:-2])"
      ],
      "metadata": {
        "id": "7IdwyjOmiO8X"
      },
      "execution_count": 19,
      "outputs": []
    },
    {
      "cell_type": "code",
      "source": [
        "X"
      ],
      "metadata": {
        "colab": {
          "base_uri": "https://localhost:8080/"
        },
        "id": "_PHdlh-WiUEc",
        "outputId": "0439d055-9e75-41bd-9c04-85e299c03fe6"
      },
      "execution_count": 20,
      "outputs": [
        {
          "output_type": "execute_result",
          "data": {
            "text/plain": [
              "[array([40, 44, 58, ..., 58, 57, 54]),\n",
              " array([42, 71, 67, ...,  2, 57, 67]),\n",
              " array([29, 74, 24, ..., 62, 61, 56]),\n",
              " array([30, 73,  2, ..., 67, 62, 73]),\n",
              " array([25, 61, 33, ..., 72, 72, 62]),\n",
              " array([27,  2, 72, ..., 62, 73, 73]),\n",
              " array([29, 62,  2, ..., 72, 72, 78]),\n",
              " array([ 1, 72, 73, ..., 73,  2,  8]),\n",
              " array([ 1,  2, 61, ..., 58, 54,  2]),\n",
              " array([ 1, 54, 58, ..., 57, 72, 63]),\n",
              " array([43,  2, 71, ...,  2,  2, 74]),\n",
              " array([45, 76, 58, ..., 74, 58, 72]),\n",
              " array([40, 68,  2, ..., 69, 72, 73]),\n",
              " array([40, 66, 67, ..., 68, 72,  2]),\n",
              " array([39, 54, 68, ..., 67, 58, 54]),\n",
              " array([43, 67, 73, ...,  2, 67, 72]),\n",
              " array([33,  9,  2, ..., 55, 73,  2]),\n",
              " array([38,  9, 60, ..., 78, 62, 73]),\n",
              " array([31, 76, 71, ...,  2, 54, 61]),\n",
              " array([ 2, 61, 68, ..., 73, 65, 58]),\n",
              " array([73, 54, 74, ..., 61,  2, 78]),\n",
              " array([61, 73, 67, ..., 58, 73,  2]),\n",
              " array([54,  2, 57, ...,  1, 68, 76]),\n",
              " array([73, 73,  1, ..., 26,  2, 58]),\n",
              " array([ 2, 61, 59, ..., 74, 72, 71])]"
            ]
          },
          "metadata": {},
          "execution_count": 20
        }
      ]
    },
    {
      "cell_type": "code",
      "source": [
        "Y[:8]"
      ],
      "metadata": {
        "colab": {
          "base_uri": "https://localhost:8080/"
        },
        "id": "BxwOOioGiZ3-",
        "outputId": "78f093fb-1600-4e0a-ac9b-533614a6016e"
      },
      "execution_count": 22,
      "outputs": [
        {
          "output_type": "execute_result",
          "data": {
            "text/plain": [
              "array([44, 58, 68, 62, 73,  8, 67, 65])"
            ]
          },
          "metadata": {},
          "execution_count": 22
        }
      ]
    },
    {
      "cell_type": "code",
      "source": [
        "X[0].shape, Y.shape"
      ],
      "metadata": {
        "colab": {
          "base_uri": "https://localhost:8080/"
        },
        "id": "zJG9kxhtieAh",
        "outputId": "874da4e2-0df7-4f78-a7e4-5f3becd6e3d8"
      },
      "execution_count": 23,
      "outputs": [
        {
          "output_type": "execute_result",
          "data": {
            "text/plain": [
              "((24033,), (24033,))"
            ]
          },
          "metadata": {},
          "execution_count": 23
        }
      ]
    },
    {
      "cell_type": "code",
      "source": [
        "hidden_layers = 256\n",
        "vocab_size = 86\n",
        "n_fac = 42"
      ],
      "metadata": {
        "id": "mQvTROjdihea"
      },
      "execution_count": 24,
      "outputs": []
    },
    {
      "cell_type": "markdown",
      "source": [
        "#Creating a simple RNN"
      ],
      "metadata": {
        "id": "hRi0r9vYinyW"
      }
    },
    {
      "cell_type": "code",
      "source": [
        "model = Sequential([\n",
        "        Embedding(vocab_size, n_fac, input_length=pred_num),\n",
        "        SimpleRNN(hidden_layers, activation='relu'),\n",
        "        Dense(vocab_size, activation='softmax')\n",
        "    ])"
      ],
      "metadata": {
        "id": "JdnhFPyPipKi"
      },
      "execution_count": 25,
      "outputs": []
    },
    {
      "cell_type": "code",
      "source": [
        "model.summary()\n"
      ],
      "metadata": {
        "colab": {
          "base_uri": "https://localhost:8080/"
        },
        "id": "VyXwM4B4ir2F",
        "outputId": "dff2ac2a-d68b-47bc-8dfc-5e2bbe58e53d"
      },
      "execution_count": 26,
      "outputs": [
        {
          "output_type": "stream",
          "name": "stdout",
          "text": [
            "Model: \"sequential\"\n",
            "_________________________________________________________________\n",
            " Layer (type)                Output Shape              Param #   \n",
            "=================================================================\n",
            " embedding (Embedding)       (None, 25, 42)            3612      \n",
            "                                                                 \n",
            " simple_rnn (SimpleRNN)      (None, 256)               76544     \n",
            "                                                                 \n",
            " dense (Dense)               (None, 86)                22102     \n",
            "                                                                 \n",
            "=================================================================\n",
            "Total params: 102,258\n",
            "Trainable params: 102,258\n",
            "Non-trainable params: 0\n",
            "_________________________________________________________________\n"
          ]
        }
      ]
    },
    {
      "cell_type": "code",
      "source": [
        "from tensorflow.keras.optimizers import Adam"
      ],
      "metadata": {
        "id": "K-K49qP2ivhP"
      },
      "execution_count": 27,
      "outputs": []
    },
    {
      "cell_type": "code",
      "source": [
        "model.compile(loss='sparse_categorical_crossentropy', optimizer=Adam())"
      ],
      "metadata": {
        "id": "5RUHe5BzjGDW"
      },
      "execution_count": 28,
      "outputs": []
    },
    {
      "cell_type": "code",
      "source": [
        "model.fit(np.stack(X, 1), Y, batch_size=64, epochs=5)\n",
        "model.save_weights('simpleRNN_3pred.h5')\n",
        "model.load_weights('simpleRNN_3pred.h5')\n",
        "model.save_weights('simpleRNN_7pred.h5')\n",
        "model.load_weights('simpleRNN_7pred.h5')"
      ],
      "metadata": {
        "colab": {
          "base_uri": "https://localhost:8080/"
        },
        "id": "NQwZXxLQjJsF",
        "outputId": "1c8c6f58-8b9b-4576-8fff-a980dd7c9db6"
      },
      "execution_count": 29,
      "outputs": [
        {
          "output_type": "stream",
          "name": "stdout",
          "text": [
            "Epoch 1/5\n",
            "376/376 [==============================] - 17s 42ms/step - loss: 3.1163\n",
            "Epoch 2/5\n",
            "376/376 [==============================] - 16s 43ms/step - loss: 2.5815\n",
            "Epoch 3/5\n",
            "376/376 [==============================] - 16s 44ms/step - loss: 2.3835\n",
            "Epoch 4/5\n",
            "376/376 [==============================] - 15s 41ms/step - loss: 2.2391\n",
            "Epoch 5/5\n",
            "376/376 [==============================] - 17s 44ms/step - loss: 2.1211\n"
          ]
        }
      ]
    },
    {
      "cell_type": "code",
      "source": [
        "def predict_next_char(inp):\n",
        "    index = [char_to_index[i] for i in inp]\n",
        "    arr = np.expand_dims(np.array(index), axis=0)\n",
        "    prediction = model.predict(arr)\n",
        "    return index_to_char[np.argmax(prediction)]"
      ],
      "metadata": {
        "id": "FZRpG-Tzjtzn"
      },
      "execution_count": 33,
      "outputs": []
    },
    {
      "cell_type": "markdown",
      "source": [
        "#Return Sequences"
      ],
      "metadata": {
        "id": "VEv3FokplHmB"
      }
    },
    {
      "cell_type": "code",
      "source": [
        "ys = [[total_index[j+i] for j in range(1, len(total_index)-pred_num, pred_num)] for i in range(pred_num)]"
      ],
      "metadata": {
        "id": "Qi5pCAVUk2JG"
      },
      "execution_count": 34,
      "outputs": []
    },
    {
      "cell_type": "code",
      "source": [
        "Y_return = [np.stack(ys[i][:-2]) for i in range(pred_num)]"
      ],
      "metadata": {
        "id": "K8cvRpwclRns"
      },
      "execution_count": 35,
      "outputs": []
    },
    {
      "cell_type": "code",
      "source": [
        "X"
      ],
      "metadata": {
        "colab": {
          "base_uri": "https://localhost:8080/"
        },
        "id": "glkez0vMlSLA",
        "outputId": "c1d84b32-7ed4-481d-d198-2d411c0dd1c4"
      },
      "execution_count": 36,
      "outputs": [
        {
          "output_type": "execute_result",
          "data": {
            "text/plain": [
              "[array([40, 44, 58, ..., 58, 57, 54]),\n",
              " array([42, 71, 67, ...,  2, 57, 67]),\n",
              " array([29, 74, 24, ..., 62, 61, 56]),\n",
              " array([30, 73,  2, ..., 67, 62, 73]),\n",
              " array([25, 61, 33, ..., 72, 72, 62]),\n",
              " array([27,  2, 72, ..., 62, 73, 73]),\n",
              " array([29, 62,  2, ..., 72, 72, 78]),\n",
              " array([ 1, 72, 73, ..., 73,  2,  8]),\n",
              " array([ 1,  2, 61, ..., 58, 54,  2]),\n",
              " array([ 1, 54, 58, ..., 57, 72, 63]),\n",
              " array([43,  2, 71, ...,  2,  2, 74]),\n",
              " array([45, 76, 58, ..., 74, 58, 72]),\n",
              " array([40, 68,  2, ..., 69, 72, 73]),\n",
              " array([40, 66, 67, ..., 68, 72,  2]),\n",
              " array([39, 54, 68, ..., 67, 58, 54]),\n",
              " array([43, 67, 73, ...,  2, 67, 72]),\n",
              " array([33,  9,  2, ..., 55, 73,  2]),\n",
              " array([38,  9, 60, ..., 78, 62, 73]),\n",
              " array([31, 76, 71, ...,  2, 54, 61]),\n",
              " array([ 2, 61, 68, ..., 73, 65, 58]),\n",
              " array([73, 54, 74, ..., 61,  2, 78]),\n",
              " array([61, 73, 67, ..., 58, 73,  2]),\n",
              " array([54,  2, 57, ...,  1, 68, 76]),\n",
              " array([73, 73,  1, ..., 26,  2, 58]),\n",
              " array([ 2, 61, 59, ..., 74, 72, 71])]"
            ]
          },
          "metadata": {},
          "execution_count": 36
        }
      ]
    },
    {
      "cell_type": "code",
      "source": [
        "Y_return\n"
      ],
      "metadata": {
        "colab": {
          "base_uri": "https://localhost:8080/"
        },
        "id": "qlSPUkrwlZEf",
        "outputId": "32749ece-e700-4f2b-813e-f4e6f4edab8d"
      },
      "execution_count": 38,
      "outputs": [
        {
          "output_type": "execute_result",
          "data": {
            "text/plain": [
              "[array([42, 71, 67, ...,  2, 57, 67]),\n",
              " array([29, 74, 24, ..., 62, 61, 56]),\n",
              " array([30, 73,  2, ..., 67, 62, 73]),\n",
              " array([25, 61, 33, ..., 72, 72, 62]),\n",
              " array([27,  2, 72, ..., 62, 73, 73]),\n",
              " array([29, 62,  2, ..., 72, 72, 78]),\n",
              " array([ 1, 72, 73, ..., 73,  2,  8]),\n",
              " array([ 1,  2, 61, ..., 58, 54,  2]),\n",
              " array([ 1, 54, 58, ..., 57, 72, 63]),\n",
              " array([43,  2, 71, ...,  2,  2, 74]),\n",
              " array([45, 76, 58, ..., 74, 58, 72]),\n",
              " array([40, 68,  2, ..., 69, 72, 73]),\n",
              " array([40, 66, 67, ..., 68, 72,  2]),\n",
              " array([39, 54, 68, ..., 67, 58, 54]),\n",
              " array([43, 67, 73, ...,  2, 67, 72]),\n",
              " array([33,  9,  2, ..., 55, 73,  2]),\n",
              " array([38,  9, 60, ..., 78, 62, 73]),\n",
              " array([31, 76, 71, ...,  2, 54, 61]),\n",
              " array([ 2, 61, 68, ..., 73, 65, 58]),\n",
              " array([73, 54, 74, ..., 61,  2, 78]),\n",
              " array([61, 73, 67, ..., 58, 73,  2]),\n",
              " array([54,  2, 57, ...,  1, 68, 76]),\n",
              " array([73, 73,  1, ..., 26,  2, 58]),\n",
              " array([ 2, 61, 59, ..., 74, 72, 71]),\n",
              " array([44, 58, 68, ..., 57, 54, 58])]"
            ]
          },
          "metadata": {},
          "execution_count": 38
        }
      ]
    },
    {
      "cell_type": "code",
      "source": [
        "vocab_size = 86\n",
        "n_fac = 42\n",
        "hidden_layers = 256"
      ],
      "metadata": {
        "id": "fGqTSLQaleWJ"
      },
      "execution_count": 39,
      "outputs": []
    },
    {
      "cell_type": "code",
      "source": [
        "from keras.layers import SimpleRNN, TimeDistributed"
      ],
      "metadata": {
        "id": "I2n5hekSlmGU"
      },
      "execution_count": 41,
      "outputs": []
    },
    {
      "cell_type": "code",
      "source": [
        "return_model = Sequential([\n",
        "        Embedding(vocab_size, n_fac, input_length=pred_num),\n",
        "        SimpleRNN(hidden_layers, return_sequences=True, activation='relu'),\n",
        "        TimeDistributed(Dense(vocab_size, activation='softmax'))\n",
        "    ])"
      ],
      "metadata": {
        "id": "MCvbkxZXl3P1"
      },
      "execution_count": 42,
      "outputs": []
    },
    {
      "cell_type": "code",
      "source": [
        "return_model.summary()"
      ],
      "metadata": {
        "colab": {
          "base_uri": "https://localhost:8080/"
        },
        "id": "3T5ExDCPl8I1",
        "outputId": "35c8a695-915e-4d02-cc9d-de7bc4a29b8a"
      },
      "execution_count": 43,
      "outputs": [
        {
          "output_type": "stream",
          "name": "stdout",
          "text": [
            "Model: \"sequential_1\"\n",
            "_________________________________________________________________\n",
            " Layer (type)                Output Shape              Param #   \n",
            "=================================================================\n",
            " embedding_1 (Embedding)     (None, 25, 42)            3612      \n",
            "                                                                 \n",
            " simple_rnn_1 (SimpleRNN)    (None, 25, 256)           76544     \n",
            "                                                                 \n",
            " time_distributed (TimeDistr  (None, 25, 86)           22102     \n",
            " ibuted)                                                         \n",
            "                                                                 \n",
            "=================================================================\n",
            "Total params: 102,258\n",
            "Trainable params: 102,258\n",
            "Non-trainable params: 0\n",
            "_________________________________________________________________\n"
          ]
        }
      ]
    },
    {
      "cell_type": "code",
      "source": [
        "return_model.compile(loss='sparse_categorical_crossentropy', optimizer=Adam())"
      ],
      "metadata": {
        "id": "7GcUCtoQl_Rg"
      },
      "execution_count": 44,
      "outputs": []
    },
    {
      "cell_type": "code",
      "source": [
        "X_model = np.stack(X, 1)\n",
        "Y_model = np.expand_dims(np.stack(Y_return, 1), axis=-1)"
      ],
      "metadata": {
        "id": "HiRw37uJmDlZ"
      },
      "execution_count": 45,
      "outputs": []
    },
    {
      "cell_type": "code",
      "source": [
        "return_model.fit(X_model, Y_model, batch_size=64, epochs=5)"
      ],
      "metadata": {
        "colab": {
          "base_uri": "https://localhost:8080/"
        },
        "id": "5pIJhwN5mHEq",
        "outputId": "300ced8c-5bc2-4188-82fa-9c1827d4e5b8"
      },
      "execution_count": 46,
      "outputs": [
        {
          "output_type": "stream",
          "name": "stdout",
          "text": [
            "Epoch 1/5\n",
            "376/376 [==============================] - 21s 53ms/step - loss: 2.7343\n",
            "Epoch 2/5\n",
            "376/376 [==============================] - 20s 53ms/step - loss: 2.1071\n",
            "Epoch 3/5\n",
            "376/376 [==============================] - 20s 54ms/step - loss: 1.9167\n",
            "Epoch 4/5\n",
            "376/376 [==============================] - 20s 54ms/step - loss: 1.8048\n",
            "Epoch 5/5\n",
            "376/376 [==============================] - 20s 53ms/step - loss: 1.7328\n"
          ]
        },
        {
          "output_type": "execute_result",
          "data": {
            "text/plain": [
              "<keras.callbacks.History at 0x7feba627d9d0>"
            ]
          },
          "metadata": {},
          "execution_count": 46
        }
      ]
    },
    {
      "cell_type": "code",
      "source": [
        "return_model.optimizer.lr = 1e-4\n",
        "return_model.fit(X_model, Y_model, batch_size=64, epochs=5)"
      ],
      "metadata": {
        "colab": {
          "base_uri": "https://localhost:8080/"
        },
        "id": "9BlrDDGFmK5_",
        "outputId": "48e2e436-a7a2-47b1-dad1-143db55c2b6b"
      },
      "execution_count": 47,
      "outputs": [
        {
          "output_type": "stream",
          "name": "stdout",
          "text": [
            "Epoch 1/5\n",
            "376/376 [==============================] - 20s 54ms/step - loss: 1.6702\n",
            "Epoch 2/5\n",
            "376/376 [==============================] - 20s 54ms/step - loss: 1.6594\n",
            "Epoch 3/5\n",
            "376/376 [==============================] - 20s 54ms/step - loss: 1.6527\n",
            "Epoch 4/5\n",
            "376/376 [==============================] - 21s 55ms/step - loss: 1.6469\n",
            "Epoch 5/5\n",
            "376/376 [==============================] - 21s 56ms/step - loss: 1.6413\n"
          ]
        },
        {
          "output_type": "execute_result",
          "data": {
            "text/plain": [
              "<keras.callbacks.History at 0x7feba5fa1050>"
            ]
          },
          "metadata": {},
          "execution_count": 47
        }
      ]
    },
    {
      "cell_type": "code",
      "source": [
        "return_model.save_weights('return_sequences_25.h5')"
      ],
      "metadata": {
        "id": "txsOfejTmnyJ"
      },
      "execution_count": 48,
      "outputs": []
    },
    {
      "cell_type": "code",
      "source": [
        "def predict_every_char(inp):\n",
        "    l = []\n",
        "    p = 0\n",
        "    while p<len(inp):\n",
        "        pre_inp = inp[p:p+pred_num]\n",
        "        if len(pre_inp) < pred_num:\n",
        "            pre_inp = pre_inp + ' '*(pred_num - len(pre_inp))\n",
        "            l.append(pre_inp)\n",
        "        else:\n",
        "            l.append(pre_inp) \n",
        "        p+=pred_num\n",
        "\n",
        "#     index = [char_to_index[i] for i in inp]\n",
        "#     arr = np.expand_dims(index, axis=0)\n",
        "#     prediction = return_model.predict(arr)\n",
        "#     return ''.join([index_to_char[np.argmax(i)] for i in prediction[0]])\n",
        "    \n",
        "    final = []\n",
        "    for half in l:\n",
        "        index = [char_to_index[i] for i in half]\n",
        "        arr = np.expand_dims(index, axis=0)\n",
        "        prediction = return_model.predict(arr)\n",
        "        final.append(''.join([index_to_char[np.argmax(i)] for i in prediction[0]]))\n",
        "    \n",
        "    return ''.join(final)"
      ],
      "metadata": {
        "id": "XGHRlaG0nMhP"
      },
      "execution_count": 51,
      "outputs": []
    },
    {
      "cell_type": "code",
      "source": [
        "predict_every_char('and the boy left')"
      ],
      "metadata": {
        "colab": {
          "base_uri": "https://localhost:8080/",
          "height": 35
        },
        "id": "Gff_XvNznecJ",
        "outputId": "f3c3b14f-f91e-4547-e234-73c9a834da9f"
      },
      "execution_count": 52,
      "outputs": [
        {
          "output_type": "execute_result",
          "data": {
            "text/plain": [
              "'nd the settooatiit       '"
            ],
            "application/vnd.google.colaboratory.intrinsic+json": {
              "type": "string"
            }
          },
          "metadata": {},
          "execution_count": 52
        }
      ]
    },
    {
      "cell_type": "code",
      "source": [
        "predict_every_char('this is')"
      ],
      "metadata": {
        "colab": {
          "base_uri": "https://localhost:8080/",
          "height": 35
        },
        "id": "BMGI6XnjnfGp",
        "outputId": "31cfcbec-5188-4ee8-833b-d5ddf0106aaf"
      },
      "execution_count": 53,
      "outputs": [
        {
          "output_type": "execute_result",
          "data": {
            "text/plain": [
              "'hen ms a                 '"
            ],
            "application/vnd.google.colaboratory.intrinsic+json": {
              "type": "string"
            }
          },
          "metadata": {},
          "execution_count": 53
        }
      ]
    },
    {
      "cell_type": "code",
      "source": [
        ""
      ],
      "metadata": {
        "id": "5yQjOyIpnwox"
      },
      "execution_count": null,
      "outputs": []
    },
    {
      "cell_type": "code",
      "source": [
        "bs = 64\n"
      ],
      "metadata": {
        "id": "iEmb5OXrn6Ce"
      },
      "execution_count": 56,
      "outputs": []
    },
    {
      "cell_type": "code",
      "source": [
        "stateful_model = Sequential([\n",
        "        Embedding(vocab_size, n_fac, input_length=pred_num, batch_input_shape=(bs, 7)),\n",
        "        BatchNormalization(),\n",
        "        LSTM(hidden_layers, activation='tanh', return_sequences=True, stateful=True),\n",
        "        TimeDistributed(Dense(vocab_size, activation='softmax'))\n",
        "    ])"
      ],
      "metadata": {
        "id": "USKNlOZjoGp_"
      },
      "execution_count": 57,
      "outputs": []
    },
    {
      "cell_type": "code",
      "source": [
        "stateful_model.compile(loss='sparse_categorical_crossentropy', optimizer=Adam())"
      ],
      "metadata": {
        "id": "BPGL2gL-oOVV"
      },
      "execution_count": 58,
      "outputs": []
    },
    {
      "cell_type": "code",
      "source": [
        "divide = len(X_model)//bs*bs"
      ],
      "metadata": {
        "id": "JM6__D-toSPW"
      },
      "execution_count": 59,
      "outputs": []
    },
    {
      "cell_type": "code",
      "source": [
        ""
      ],
      "metadata": {
        "id": "EaJ1vGlLo9M4"
      },
      "execution_count": null,
      "outputs": []
    }
  ]
}