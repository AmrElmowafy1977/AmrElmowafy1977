{
  "nbformat": 4,
  "nbformat_minor": 0,
  "metadata": {
    "colab": {
      "name": "SimpleChatbot.ipynb",
      "provenance": [],
      "collapsed_sections": [],
      "authorship_tag": "ABX9TyPE06pav+UE1sJcSmYTm/Gc",
      "include_colab_link": true
    },
    "kernelspec": {
      "name": "python3",
      "display_name": "Python 3"
    },
    "language_info": {
      "name": "python"
    }
  },
  "cells": [
    {
      "cell_type": "markdown",
      "metadata": {
        "id": "view-in-github",
        "colab_type": "text"
      },
      "source": [
        "<a href=\"https://colab.research.google.com/github/AmrElmowafy1977/AmrElmowafy1977/blob/main/SimpleChatbot.ipynb\" target=\"_parent\"><img src=\"https://colab.research.google.com/assets/colab-badge.svg\" alt=\"Open In Colab\"/></a>"
      ]
    },
    {
      "cell_type": "code",
      "source": [
        "pip install nltk\n"
      ],
      "metadata": {
        "colab": {
          "base_uri": "https://localhost:8080/"
        },
        "id": "t749rMF8mLxt",
        "outputId": "ce981435-31e8-4620-9755-b45a08f9c0c1"
      },
      "execution_count": 16,
      "outputs": [
        {
          "output_type": "stream",
          "name": "stdout",
          "text": [
            "Looking in indexes: https://pypi.org/simple, https://us-python.pkg.dev/colab-wheels/public/simple/\n",
            "Requirement already satisfied: nltk in /usr/local/lib/python3.7/dist-packages (3.7)\n",
            "Requirement already satisfied: joblib in /usr/local/lib/python3.7/dist-packages (from nltk) (1.1.0)\n",
            "Requirement already satisfied: tqdm in /usr/local/lib/python3.7/dist-packages (from nltk) (4.64.0)\n",
            "Requirement already satisfied: click in /usr/local/lib/python3.7/dist-packages (from nltk) (7.1.2)\n",
            "Requirement already satisfied: regex>=2021.8.3 in /usr/local/lib/python3.7/dist-packages (from nltk) (2022.6.2)\n"
          ]
        }
      ]
    },
    {
      "cell_type": "markdown",
      "source": [
        "##Import Libraries"
      ],
      "metadata": {
        "id": "mWRqGwX9mtMU"
      }
    },
    {
      "cell_type": "code",
      "source": [
        "import nltk\n",
        "from nltk.chat.util import Chat, reflections"
      ],
      "metadata": {
        "id": "OCfEHHRHmv2b"
      },
      "execution_count": 17,
      "outputs": []
    },
    {
      "cell_type": "code",
      "source": [
        "reflections = {\n",
        "  \"i am\"       : \"you are\",\n",
        "  \"i was\"      : \"you were\",\n",
        "  \"i\"          : \"you\",\n",
        "  \"i'm\"        : \"you are\",\n",
        "  \"i'd\"        : \"you would\",\n",
        "  \"i've\"       : \"you have\",\n",
        "  \"i'll\"       : \"you will\",\n",
        "  \"my\"         : \"your\",\n",
        "  \"you are\"    : \"I am\",\n",
        "  \"you were\"   : \"I was\",\n",
        "  \"you've\"     : \"I have\",\n",
        "  \"you'll\"     : \"I will\",\n",
        "  \"your\"       : \"my\",\n",
        "  \"yours\"      : \"mine\",\n",
        "  \"you\"        : \"me\",\n",
        "  \"me\"         : \"you\"\n",
        "}"
      ],
      "metadata": {
        "id": "L4FPEXGFmwu3"
      },
      "execution_count": 18,
      "outputs": []
    },
    {
      "cell_type": "code",
      "source": [
        "pairs = [\n",
        "    [        r\"my name is (.*)\",        [\"Hello %1, How are you today ?\",]    ],\n",
        "    [        r\"hi|hey|hello\",        [\"Hello\", \"Hey there\",]    ], \n",
        "    [        r\"what is your name ?\",        [\"I am a bot. you can call me crazy!\",]    ],\n",
        "    [        r\"how are you ?\",        [\"I'm doing goodnHow about You ?\",]    ],\n",
        "    [        r\"sorry (.*)\",        [\"Its alright\",\"Its OK, never mind\",]    ],\n",
        "    [        r\"I am fine\",        [\"Great to hear that, How can I help you?\",]    ],\n",
        "    [        r\"i'm (.*) doing good\",        [\"Nice to hear that\",\"How can I help you?:)\",]    ],\n",
        "    [        r\"(.*) age?\",        [\"I'm a computer program dudenSeriously you are asking me this?\",]    ],\n",
        "    [        r\"what (.*) want ?\",        [\"Make me an offer I can't refuse\",]    ],\n",
        "    [        r\"(.*) created ?\",        [\"Raghav created me using Python's NLTK library \",\"top secret ;)\",]    ],\n",
        "    [        r\"(.*) (location|city) ?\",        ['Indore, Madhya Pradesh',]    ],\n",
        "    [        r\"how is weather in (.*)?\",        [\"Weather in %1 is awesome like always\",\"Too hot man here in %1\",\"Too cold man here in %1\",\"Never even heard about %1\"]    ],\n",
        "    [        r\"i work in (.*)?\",        [\"%1 is an Amazing company, I have heard about it. But they are in huge loss these days.\",]    ],\n",
        "    [        r\"(.*)raining in (.*)\",        [\"No rain since last week here in %2\",\"Damn its raining too much here in %2\"]    ],\n",
        "    [        r\"how (.*) health(.*)\",        [\"I'm a computer program, so I'm always healthy \",]    ],\n",
        "    [        r\"(.*) (sports|game) ?\",        [\"I'm a very big fan of Football\",]    ],\n",
        "    [        r\"who (.*) sportsperson ?\",        [\"Messy\",\"Ronaldo\",\"Roony\"]    ],\n",
        "    [        r\"who (.*) (moviestar|actor)?\",        [\"Brad Pitt\"]    ],\n",
        "    [        r\"i am looking for online guides and courses to learn data science, can you suggest?\",        [\"Crazy_Tech has many great articles with each step explanation along with code, you can explore\"]    ],\n",
        "    [        r\"quit\",        [\"BBye take care. See you soon :) \",\"It was nice talking to you. See you soon :)\"]    ],\n",
        "]"
      ],
      "metadata": {
        "id": "mLv17CE7m1I3"
      },
      "execution_count": 19,
      "outputs": []
    },
    {
      "cell_type": "code",
      "source": [
        "def chat():\n",
        "    print(\"Hi! I am a chatbot for your service\")\n",
        "    chat = Chat(pairs, reflections)\n",
        "    chat.converse()\n",
        "#initiate the conversation\n",
        "if __name__ == \"__main__\":\n",
        "    chat()"
      ],
      "metadata": {
        "colab": {
          "base_uri": "https://localhost:8080/"
        },
        "id": "Gx3Xfacmm6B7",
        "outputId": "2b83ea9f-1996-4067-fc09-3574a80d33c5"
      },
      "execution_count": 20,
      "outputs": [
        {
          "output_type": "stream",
          "name": "stdout",
          "text": [
            "Hi! I am a chatbot for your service\n",
            ">how are you\n",
            "I'm doing goodnHow about You ?\n",
            ">great\n",
            "None\n",
            ">ok\n",
            "None\n",
            ">bye\n",
            "None\n",
            ">quit\n",
            "BBye take care. See you soon :) \n"
          ]
        }
      ]
    },
    {
      "cell_type": "code",
      "source": [
        ""
      ],
      "metadata": {
        "id": "D-Cotj3am-Yj"
      },
      "execution_count": null,
      "outputs": []
    }
  ]
}