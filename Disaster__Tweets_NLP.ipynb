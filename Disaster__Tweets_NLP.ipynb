{
  "nbformat": 4,
  "nbformat_minor": 0,
  "metadata": {
    "colab": {
      "name": "Disaster _Tweets_NLP.ipynb",
      "provenance": [],
      "collapsed_sections": [],
      "authorship_tag": "ABX9TyPl3qtMsqvoIuWDro/5v3ef",
      "include_colab_link": true
    },
    "kernelspec": {
      "name": "python3",
      "display_name": "Python 3"
    },
    "language_info": {
      "name": "python"
    }
  },
  "cells": [
    {
      "cell_type": "markdown",
      "metadata": {
        "id": "view-in-github",
        "colab_type": "text"
      },
      "source": [
        "<a href=\"https://colab.research.google.com/github/AmrElmowafy1977/AmrElmowafy1977/blob/main/Disaster__Tweets_NLP.ipynb\" target=\"_parent\"><img src=\"https://colab.research.google.com/assets/colab-badge.svg\" alt=\"Open In Colab\"/></a>"
      ]
    },
    {
      "cell_type": "markdown",
      "source": [
        ""
      ],
      "metadata": {
        "id": "TIEJ1behMKTk"
      }
    },
    {
      "cell_type": "markdown",
      "source": [
        "#Import Libraries"
      ],
      "metadata": {
        "id": "Wo1CPfDpMSho"
      }
    },
    {
      "cell_type": "code",
      "source": [
        "import pandas as pd\n",
        "import numpy as np\n",
        "import seaborn as sns\n",
        "import matplotlib.pyplot as plt\n",
        "import string\n",
        "from tqdm import tqdm\n",
        "import re"
      ],
      "metadata": {
        "id": "qz4KjeecNHzo"
      },
      "execution_count": 5,
      "outputs": []
    },
    {
      "cell_type": "code",
      "source": [
        "from nltk.tokenize import word_tokenize\n",
        "from nltk.corpus import stopwords"
      ],
      "metadata": {
        "id": "gNgd06xWNJsj"
      },
      "execution_count": 6,
      "outputs": []
    },
    {
      "cell_type": "code",
      "source": [
        "from sklearn.model_selection import train_test_split"
      ],
      "metadata": {
        "id": "-S9roq4WNOSD"
      },
      "execution_count": 7,
      "outputs": []
    },
    {
      "cell_type": "code",
      "source": [
        "from keras.preprocessing.text import Tokenizer\n",
        "from keras.preprocessing.sequence import pad_sequences"
      ],
      "metadata": {
        "id": "d1L3IiahNnp1"
      },
      "execution_count": 9,
      "outputs": []
    },
    {
      "cell_type": "code",
      "source": [
        "pip install keras"
      ],
      "metadata": {
        "colab": {
          "base_uri": "https://localhost:8080/"
        },
        "id": "sLPVp8m5N6YB",
        "outputId": "4e798fe1-a6d6-4f75-920b-2a65feef4152"
      },
      "execution_count": 11,
      "outputs": [
        {
          "output_type": "stream",
          "name": "stdout",
          "text": [
            "Looking in indexes: https://pypi.org/simple, https://us-python.pkg.dev/colab-wheels/public/simple/\n",
            "Requirement already satisfied: keras in /usr/local/lib/python3.7/dist-packages (2.8.0)\n"
          ]
        }
      ]
    },
    {
      "cell_type": "code",
      "source": [
        "from keras.models import Sequential\n",
        "from keras.layers import Embedding,LSTM,Dense,SpatialDropout1D\n",
        "from keras.initializers import constant\n"
      ],
      "metadata": {
        "id": "LwwZhc8TOvEV"
      },
      "execution_count": 13,
      "outputs": []
    },
    {
      "cell_type": "code",
      "source": [
        "from tensorflow.keras.optimizers import Adam"
      ],
      "metadata": {
        "id": "drpnTp9iP1wY"
      },
      "execution_count": 15,
      "outputs": []
    },
    {
      "cell_type": "code",
      "source": [
        "import tensorflow as tf"
      ],
      "metadata": {
        "id": "yHeBYHcJP-Fv"
      },
      "execution_count": 23,
      "outputs": []
    },
    {
      "cell_type": "code",
      "source": [
        "import nltk"
      ],
      "metadata": {
        "id": "PPJoNnQ-R4z5"
      },
      "execution_count": 24,
      "outputs": []
    },
    {
      "cell_type": "code",
      "source": [
        "nltk.download(\"stopwords\")"
      ],
      "metadata": {
        "colab": {
          "base_uri": "https://localhost:8080/"
        },
        "id": "uYrP1X4QR-xy",
        "outputId": "31765f33-2506-441d-8e88-72b5f151caf5"
      },
      "execution_count": 25,
      "outputs": [
        {
          "output_type": "stream",
          "name": "stderr",
          "text": [
            "[nltk_data] Downloading package stopwords to /root/nltk_data...\n",
            "[nltk_data]   Unzipping corpora/stopwords.zip.\n"
          ]
        },
        {
          "output_type": "execute_result",
          "data": {
            "text/plain": [
              "True"
            ]
          },
          "metadata": {},
          "execution_count": 25
        }
      ]
    },
    {
      "cell_type": "code",
      "source": [
        "stop = set(stopwords.words('english'))"
      ],
      "metadata": {
        "id": "zjkv5X5GSFY6"
      },
      "execution_count": 26,
      "outputs": []
    },
    {
      "cell_type": "markdown",
      "source": [
        "#Loading Data"
      ],
      "metadata": {
        "id": "I3a2l7UvSLpx"
      }
    },
    {
      "cell_type": "code",
      "source": [
        "df_train = pd.read_csv(\"/content/train (2).csv\")\n",
        "df_train.head()"
      ],
      "metadata": {
        "colab": {
          "base_uri": "https://localhost:8080/",
          "height": 206
        },
        "id": "xj6EUi6HSNFR",
        "outputId": "911fc93c-0754-403e-8446-61003691bfcd"
      },
      "execution_count": 27,
      "outputs": [
        {
          "output_type": "execute_result",
          "data": {
            "text/plain": [
              "   id keyword location                                               text  \\\n",
              "0   1     NaN      NaN  Our Deeds are the Reason of this #earthquake M...   \n",
              "1   4     NaN      NaN             Forest fire near La Ronge Sask. Canada   \n",
              "2   5     NaN      NaN  All residents asked to 'shelter in place' are ...   \n",
              "3   6     NaN      NaN  13,000 people receive #wildfires evacuation or...   \n",
              "4   7     NaN      NaN  Just got sent this photo from Ruby #Alaska as ...   \n",
              "\n",
              "   target  \n",
              "0       1  \n",
              "1       1  \n",
              "2       1  \n",
              "3       1  \n",
              "4       1  "
            ],
            "text/html": [
              "\n",
              "  <div id=\"df-53bdcb74-c994-4d48-a3b2-6858c4d9e322\">\n",
              "    <div class=\"colab-df-container\">\n",
              "      <div>\n",
              "<style scoped>\n",
              "    .dataframe tbody tr th:only-of-type {\n",
              "        vertical-align: middle;\n",
              "    }\n",
              "\n",
              "    .dataframe tbody tr th {\n",
              "        vertical-align: top;\n",
              "    }\n",
              "\n",
              "    .dataframe thead th {\n",
              "        text-align: right;\n",
              "    }\n",
              "</style>\n",
              "<table border=\"1\" class=\"dataframe\">\n",
              "  <thead>\n",
              "    <tr style=\"text-align: right;\">\n",
              "      <th></th>\n",
              "      <th>id</th>\n",
              "      <th>keyword</th>\n",
              "      <th>location</th>\n",
              "      <th>text</th>\n",
              "      <th>target</th>\n",
              "    </tr>\n",
              "  </thead>\n",
              "  <tbody>\n",
              "    <tr>\n",
              "      <th>0</th>\n",
              "      <td>1</td>\n",
              "      <td>NaN</td>\n",
              "      <td>NaN</td>\n",
              "      <td>Our Deeds are the Reason of this #earthquake M...</td>\n",
              "      <td>1</td>\n",
              "    </tr>\n",
              "    <tr>\n",
              "      <th>1</th>\n",
              "      <td>4</td>\n",
              "      <td>NaN</td>\n",
              "      <td>NaN</td>\n",
              "      <td>Forest fire near La Ronge Sask. Canada</td>\n",
              "      <td>1</td>\n",
              "    </tr>\n",
              "    <tr>\n",
              "      <th>2</th>\n",
              "      <td>5</td>\n",
              "      <td>NaN</td>\n",
              "      <td>NaN</td>\n",
              "      <td>All residents asked to 'shelter in place' are ...</td>\n",
              "      <td>1</td>\n",
              "    </tr>\n",
              "    <tr>\n",
              "      <th>3</th>\n",
              "      <td>6</td>\n",
              "      <td>NaN</td>\n",
              "      <td>NaN</td>\n",
              "      <td>13,000 people receive #wildfires evacuation or...</td>\n",
              "      <td>1</td>\n",
              "    </tr>\n",
              "    <tr>\n",
              "      <th>4</th>\n",
              "      <td>7</td>\n",
              "      <td>NaN</td>\n",
              "      <td>NaN</td>\n",
              "      <td>Just got sent this photo from Ruby #Alaska as ...</td>\n",
              "      <td>1</td>\n",
              "    </tr>\n",
              "  </tbody>\n",
              "</table>\n",
              "</div>\n",
              "      <button class=\"colab-df-convert\" onclick=\"convertToInteractive('df-53bdcb74-c994-4d48-a3b2-6858c4d9e322')\"\n",
              "              title=\"Convert this dataframe to an interactive table.\"\n",
              "              style=\"display:none;\">\n",
              "        \n",
              "  <svg xmlns=\"http://www.w3.org/2000/svg\" height=\"24px\"viewBox=\"0 0 24 24\"\n",
              "       width=\"24px\">\n",
              "    <path d=\"M0 0h24v24H0V0z\" fill=\"none\"/>\n",
              "    <path d=\"M18.56 5.44l.94 2.06.94-2.06 2.06-.94-2.06-.94-.94-2.06-.94 2.06-2.06.94zm-11 1L8.5 8.5l.94-2.06 2.06-.94-2.06-.94L8.5 2.5l-.94 2.06-2.06.94zm10 10l.94 2.06.94-2.06 2.06-.94-2.06-.94-.94-2.06-.94 2.06-2.06.94z\"/><path d=\"M17.41 7.96l-1.37-1.37c-.4-.4-.92-.59-1.43-.59-.52 0-1.04.2-1.43.59L10.3 9.45l-7.72 7.72c-.78.78-.78 2.05 0 2.83L4 21.41c.39.39.9.59 1.41.59.51 0 1.02-.2 1.41-.59l7.78-7.78 2.81-2.81c.8-.78.8-2.07 0-2.86zM5.41 20L4 18.59l7.72-7.72 1.47 1.35L5.41 20z\"/>\n",
              "  </svg>\n",
              "      </button>\n",
              "      \n",
              "  <style>\n",
              "    .colab-df-container {\n",
              "      display:flex;\n",
              "      flex-wrap:wrap;\n",
              "      gap: 12px;\n",
              "    }\n",
              "\n",
              "    .colab-df-convert {\n",
              "      background-color: #E8F0FE;\n",
              "      border: none;\n",
              "      border-radius: 50%;\n",
              "      cursor: pointer;\n",
              "      display: none;\n",
              "      fill: #1967D2;\n",
              "      height: 32px;\n",
              "      padding: 0 0 0 0;\n",
              "      width: 32px;\n",
              "    }\n",
              "\n",
              "    .colab-df-convert:hover {\n",
              "      background-color: #E2EBFA;\n",
              "      box-shadow: 0px 1px 2px rgba(60, 64, 67, 0.3), 0px 1px 3px 1px rgba(60, 64, 67, 0.15);\n",
              "      fill: #174EA6;\n",
              "    }\n",
              "\n",
              "    [theme=dark] .colab-df-convert {\n",
              "      background-color: #3B4455;\n",
              "      fill: #D2E3FC;\n",
              "    }\n",
              "\n",
              "    [theme=dark] .colab-df-convert:hover {\n",
              "      background-color: #434B5C;\n",
              "      box-shadow: 0px 1px 3px 1px rgba(0, 0, 0, 0.15);\n",
              "      filter: drop-shadow(0px 1px 2px rgba(0, 0, 0, 0.3));\n",
              "      fill: #FFFFFF;\n",
              "    }\n",
              "  </style>\n",
              "\n",
              "      <script>\n",
              "        const buttonEl =\n",
              "          document.querySelector('#df-53bdcb74-c994-4d48-a3b2-6858c4d9e322 button.colab-df-convert');\n",
              "        buttonEl.style.display =\n",
              "          google.colab.kernel.accessAllowed ? 'block' : 'none';\n",
              "\n",
              "        async function convertToInteractive(key) {\n",
              "          const element = document.querySelector('#df-53bdcb74-c994-4d48-a3b2-6858c4d9e322');\n",
              "          const dataTable =\n",
              "            await google.colab.kernel.invokeFunction('convertToInteractive',\n",
              "                                                     [key], {});\n",
              "          if (!dataTable) return;\n",
              "\n",
              "          const docLinkHtml = 'Like what you see? Visit the ' +\n",
              "            '<a target=\"_blank\" href=https://colab.research.google.com/notebooks/data_table.ipynb>data table notebook</a>'\n",
              "            + ' to learn more about interactive tables.';\n",
              "          element.innerHTML = '';\n",
              "          dataTable['output_type'] = 'display_data';\n",
              "          await google.colab.output.renderOutput(dataTable, element);\n",
              "          const docLink = document.createElement('div');\n",
              "          docLink.innerHTML = docLinkHtml;\n",
              "          element.appendChild(docLink);\n",
              "        }\n",
              "      </script>\n",
              "    </div>\n",
              "  </div>\n",
              "  "
            ]
          },
          "metadata": {},
          "execution_count": 27
        }
      ]
    },
    {
      "cell_type": "code",
      "source": [
        "df_test = pd.read_csv(\"/content/test (1).csv\")\n",
        "df_test.head()"
      ],
      "metadata": {
        "colab": {
          "base_uri": "https://localhost:8080/",
          "height": 206
        },
        "id": "BsWeUQBeSrLW",
        "outputId": "cefd4462-47d9-4b24-fd03-c8c08f019c76"
      },
      "execution_count": 28,
      "outputs": [
        {
          "output_type": "execute_result",
          "data": {
            "text/plain": [
              "   id keyword location                                               text\n",
              "0   0     NaN      NaN                 Just happened a terrible car crash\n",
              "1   2     NaN      NaN  Heard about #earthquake is different cities, s...\n",
              "2   3     NaN      NaN  there is a forest fire at spot pond, geese are...\n",
              "3   9     NaN      NaN           Apocalypse lighting. #Spokane #wildfires\n",
              "4  11     NaN      NaN      Typhoon Soudelor kills 28 in China and Taiwan"
            ],
            "text/html": [
              "\n",
              "  <div id=\"df-520ac223-224f-47e9-b88a-63f7c79b64dd\">\n",
              "    <div class=\"colab-df-container\">\n",
              "      <div>\n",
              "<style scoped>\n",
              "    .dataframe tbody tr th:only-of-type {\n",
              "        vertical-align: middle;\n",
              "    }\n",
              "\n",
              "    .dataframe tbody tr th {\n",
              "        vertical-align: top;\n",
              "    }\n",
              "\n",
              "    .dataframe thead th {\n",
              "        text-align: right;\n",
              "    }\n",
              "</style>\n",
              "<table border=\"1\" class=\"dataframe\">\n",
              "  <thead>\n",
              "    <tr style=\"text-align: right;\">\n",
              "      <th></th>\n",
              "      <th>id</th>\n",
              "      <th>keyword</th>\n",
              "      <th>location</th>\n",
              "      <th>text</th>\n",
              "    </tr>\n",
              "  </thead>\n",
              "  <tbody>\n",
              "    <tr>\n",
              "      <th>0</th>\n",
              "      <td>0</td>\n",
              "      <td>NaN</td>\n",
              "      <td>NaN</td>\n",
              "      <td>Just happened a terrible car crash</td>\n",
              "    </tr>\n",
              "    <tr>\n",
              "      <th>1</th>\n",
              "      <td>2</td>\n",
              "      <td>NaN</td>\n",
              "      <td>NaN</td>\n",
              "      <td>Heard about #earthquake is different cities, s...</td>\n",
              "    </tr>\n",
              "    <tr>\n",
              "      <th>2</th>\n",
              "      <td>3</td>\n",
              "      <td>NaN</td>\n",
              "      <td>NaN</td>\n",
              "      <td>there is a forest fire at spot pond, geese are...</td>\n",
              "    </tr>\n",
              "    <tr>\n",
              "      <th>3</th>\n",
              "      <td>9</td>\n",
              "      <td>NaN</td>\n",
              "      <td>NaN</td>\n",
              "      <td>Apocalypse lighting. #Spokane #wildfires</td>\n",
              "    </tr>\n",
              "    <tr>\n",
              "      <th>4</th>\n",
              "      <td>11</td>\n",
              "      <td>NaN</td>\n",
              "      <td>NaN</td>\n",
              "      <td>Typhoon Soudelor kills 28 in China and Taiwan</td>\n",
              "    </tr>\n",
              "  </tbody>\n",
              "</table>\n",
              "</div>\n",
              "      <button class=\"colab-df-convert\" onclick=\"convertToInteractive('df-520ac223-224f-47e9-b88a-63f7c79b64dd')\"\n",
              "              title=\"Convert this dataframe to an interactive table.\"\n",
              "              style=\"display:none;\">\n",
              "        \n",
              "  <svg xmlns=\"http://www.w3.org/2000/svg\" height=\"24px\"viewBox=\"0 0 24 24\"\n",
              "       width=\"24px\">\n",
              "    <path d=\"M0 0h24v24H0V0z\" fill=\"none\"/>\n",
              "    <path d=\"M18.56 5.44l.94 2.06.94-2.06 2.06-.94-2.06-.94-.94-2.06-.94 2.06-2.06.94zm-11 1L8.5 8.5l.94-2.06 2.06-.94-2.06-.94L8.5 2.5l-.94 2.06-2.06.94zm10 10l.94 2.06.94-2.06 2.06-.94-2.06-.94-.94-2.06-.94 2.06-2.06.94z\"/><path d=\"M17.41 7.96l-1.37-1.37c-.4-.4-.92-.59-1.43-.59-.52 0-1.04.2-1.43.59L10.3 9.45l-7.72 7.72c-.78.78-.78 2.05 0 2.83L4 21.41c.39.39.9.59 1.41.59.51 0 1.02-.2 1.41-.59l7.78-7.78 2.81-2.81c.8-.78.8-2.07 0-2.86zM5.41 20L4 18.59l7.72-7.72 1.47 1.35L5.41 20z\"/>\n",
              "  </svg>\n",
              "      </button>\n",
              "      \n",
              "  <style>\n",
              "    .colab-df-container {\n",
              "      display:flex;\n",
              "      flex-wrap:wrap;\n",
              "      gap: 12px;\n",
              "    }\n",
              "\n",
              "    .colab-df-convert {\n",
              "      background-color: #E8F0FE;\n",
              "      border: none;\n",
              "      border-radius: 50%;\n",
              "      cursor: pointer;\n",
              "      display: none;\n",
              "      fill: #1967D2;\n",
              "      height: 32px;\n",
              "      padding: 0 0 0 0;\n",
              "      width: 32px;\n",
              "    }\n",
              "\n",
              "    .colab-df-convert:hover {\n",
              "      background-color: #E2EBFA;\n",
              "      box-shadow: 0px 1px 2px rgba(60, 64, 67, 0.3), 0px 1px 3px 1px rgba(60, 64, 67, 0.15);\n",
              "      fill: #174EA6;\n",
              "    }\n",
              "\n",
              "    [theme=dark] .colab-df-convert {\n",
              "      background-color: #3B4455;\n",
              "      fill: #D2E3FC;\n",
              "    }\n",
              "\n",
              "    [theme=dark] .colab-df-convert:hover {\n",
              "      background-color: #434B5C;\n",
              "      box-shadow: 0px 1px 3px 1px rgba(0, 0, 0, 0.15);\n",
              "      filter: drop-shadow(0px 1px 2px rgba(0, 0, 0, 0.3));\n",
              "      fill: #FFFFFF;\n",
              "    }\n",
              "  </style>\n",
              "\n",
              "      <script>\n",
              "        const buttonEl =\n",
              "          document.querySelector('#df-520ac223-224f-47e9-b88a-63f7c79b64dd button.colab-df-convert');\n",
              "        buttonEl.style.display =\n",
              "          google.colab.kernel.accessAllowed ? 'block' : 'none';\n",
              "\n",
              "        async function convertToInteractive(key) {\n",
              "          const element = document.querySelector('#df-520ac223-224f-47e9-b88a-63f7c79b64dd');\n",
              "          const dataTable =\n",
              "            await google.colab.kernel.invokeFunction('convertToInteractive',\n",
              "                                                     [key], {});\n",
              "          if (!dataTable) return;\n",
              "\n",
              "          const docLinkHtml = 'Like what you see? Visit the ' +\n",
              "            '<a target=\"_blank\" href=https://colab.research.google.com/notebooks/data_table.ipynb>data table notebook</a>'\n",
              "            + ' to learn more about interactive tables.';\n",
              "          element.innerHTML = '';\n",
              "          dataTable['output_type'] = 'display_data';\n",
              "          await google.colab.output.renderOutput(dataTable, element);\n",
              "          const docLink = document.createElement('div');\n",
              "          docLink.innerHTML = docLinkHtml;\n",
              "          element.appendChild(docLink);\n",
              "        }\n",
              "      </script>\n",
              "    </div>\n",
              "  </div>\n",
              "  "
            ]
          },
          "metadata": {},
          "execution_count": 28
        }
      ]
    },
    {
      "cell_type": "code",
      "source": [
        "print(f\"There are {df_train.shape[0]} rows and {df_train.shape[1]} columns. \")"
      ],
      "metadata": {
        "colab": {
          "base_uri": "https://localhost:8080/"
        },
        "id": "3kokE_21S5IW",
        "outputId": "c370b552-f457-4209-de80-1ee72b501f1e"
      },
      "execution_count": 29,
      "outputs": [
        {
          "output_type": "stream",
          "name": "stdout",
          "text": [
            "There are 7613 rows and 5 columns. \n"
          ]
        }
      ]
    },
    {
      "cell_type": "code",
      "source": [
        "class_dist = df_train.target.value_counts()\n",
        "sns.barplot(class_dist.index,class_dist)"
      ],
      "metadata": {
        "colab": {
          "base_uri": "https://localhost:8080/",
          "height": 337
        },
        "id": "XrLKarkYTJYD",
        "outputId": "a12d567c-f6c9-4c88-c3ec-fcdac376bafc"
      },
      "execution_count": 30,
      "outputs": [
        {
          "output_type": "stream",
          "name": "stderr",
          "text": [
            "/usr/local/lib/python3.7/dist-packages/seaborn/_decorators.py:43: FutureWarning: Pass the following variables as keyword args: x, y. From version 0.12, the only valid positional argument will be `data`, and passing other arguments without an explicit keyword will result in an error or misinterpretation.\n",
            "  FutureWarning\n"
          ]
        },
        {
          "output_type": "execute_result",
          "data": {
            "text/plain": [
              "<matplotlib.axes._subplots.AxesSubplot at 0x7f90df06da90>"
            ]
          },
          "metadata": {},
          "execution_count": 30
        },
        {
          "output_type": "display_data",
          "data": {
            "text/plain": [
              "<Figure size 432x288 with 1 Axes>"
            ],
            "image/png": "[encoded data removed]"
          },
          "metadata": {
            "needs_background": "light"
          }
        }
      ]
    },
    {
      "cell_type": "code",
      "source": [
        "# Misssing vs Non Missing\n",
        "# 'keyword' & 'location' columns have missing values. Looks like 'location' column is very dirty so lets not use it. Lets also ignore 'keyword' column for now.\n",
        "null_vals = df_train.isnull().sum()\n",
        "sns.barplot(null_vals.index,null_vals)"
      ],
      "metadata": {
        "colab": {
          "base_uri": "https://localhost:8080/",
          "height": 337
        },
        "id": "r9NXBRHBTTvo",
        "outputId": "973e8c65-e1b9-4957-dfac-7e9410dc306c"
      },
      "execution_count": 31,
      "outputs": [
        {
          "output_type": "stream",
          "name": "stderr",
          "text": [
            "/usr/local/lib/python3.7/dist-packages/seaborn/_decorators.py:43: FutureWarning: Pass the following variables as keyword args: x, y. From version 0.12, the only valid positional argument will be `data`, and passing other arguments without an explicit keyword will result in an error or misinterpretation.\n",
            "  FutureWarning\n"
          ]
        },
        {
          "output_type": "execute_result",
          "data": {
            "text/plain": [
              "<matplotlib.axes._subplots.AxesSubplot at 0x7f90defdbb90>"
            ]
          },
          "metadata": {},
          "execution_count": 31
        },
        {
          "output_type": "display_data",
          "data": {
            "text/plain": [
              "<Figure size 432x288 with 1 Axes>"
            ],
            "image/png": "[encoded data removed]"
          },
          "metadata": {
            "needs_background": "light"
          }
        }
      ]
    },
    {
      "cell_type": "markdown",
      "source": [
        "#Cleaning the Dataset"
      ],
      "metadata": {
        "id": "s2CFAppXTamX"
      }
    },
    {
      "cell_type": "code",
      "source": [
        "def remove_spec(text):\n",
        "    text = re.sub('<.*?>+', '', text)\n",
        "    text = text.lower()\n",
        "    return text"
      ],
      "metadata": {
        "id": "3-2CXoaNTUoq"
      },
      "execution_count": 32,
      "outputs": []
    },
    {
      "cell_type": "code",
      "source": [
        "\n",
        "def remove_punctuation(text):\n",
        "    table = str.maketrans('','',string.punctuation)\n",
        "    return text.translate(table)"
      ],
      "metadata": {
        "id": "wJcLlVYnTjRU"
      },
      "execution_count": 33,
      "outputs": []
    },
    {
      "cell_type": "markdown",
      "source": [
        "#Removing URL"
      ],
      "metadata": {
        "id": "ya8Lca89TpdB"
      }
    },
    {
      "cell_type": "code",
      "source": [
        "def remove_urls(text):\n",
        "    text = re.sub(r\"https?:\\/\\/t.co\\/[A-Za-z0-9]+\",'',text)\n",
        "    return text"
      ],
      "metadata": {
        "id": "PqTJh4WDTrFR"
      },
      "execution_count": 34,
      "outputs": []
    },
    {
      "cell_type": "code",
      "source": [
        "df_train['cleaned_text'] = df_train['text'].apply(lambda x : remove_punctuation(x))\n",
        "df_train['cleaned_text'] = df_train['cleaned_text'].apply(lambda x : remove_urls(x))\n",
        "\n",
        "df_train['cleaned_text'] = df_train['cleaned_text'].apply(lambda x : remove_spec(x))"
      ],
      "metadata": {
        "id": "_TF4g_g7T_J4"
      },
      "execution_count": 36,
      "outputs": []
    },
    {
      "cell_type": "code",
      "source": [
        "import nltk\n",
        "nltk.download('punkt')"
      ],
      "metadata": {
        "colab": {
          "base_uri": "https://localhost:8080/"
        },
        "id": "baYWxvT0UuoZ",
        "outputId": "681c2bdb-9be3-437c-bbe2-b3ea737860a2"
      },
      "execution_count": 38,
      "outputs": [
        {
          "output_type": "stream",
          "name": "stderr",
          "text": [
            "[nltk_data] Downloading package punkt to /root/nltk_data...\n",
            "[nltk_data]   Unzipping tokenizers/punkt.zip.\n"
          ]
        },
        {
          "output_type": "execute_result",
          "data": {
            "text/plain": [
              "True"
            ]
          },
          "metadata": {},
          "execution_count": 38
        }
      ]
    },
    {
      "cell_type": "code",
      "source": [
        "def create_corpus(dataset):\n",
        "    corpus = []\n",
        "    for review in tqdm(dataset['cleaned_text']):\n",
        "        words = [ word.lower() for word in word_tokenize(review) if (word.isalpha() == 1 ) & (word not in stop) ]\n",
        "        corpus.append(words)\n",
        "\n",
        "    return corpus\n",
        "\n",
        "corpus = create_corpus(df_train)"
      ],
      "metadata": {
        "colab": {
          "base_uri": "https://localhost:8080/"
        },
        "id": "LEes_SYRU08E",
        "outputId": "8e85652a-d1be-48ed-e694-94c2c37fb930"
      },
      "execution_count": 39,
      "outputs": [
        {
          "output_type": "stream",
          "name": "stderr",
          "text": [
            "100%|██████████| 7613/7613 [00:01<00:00, 6635.26it/s]\n"
          ]
        }
      ]
    },
    {
      "cell_type": "markdown",
      "source": [
        "# Creating Embedding"
      ],
      "metadata": {
        "id": "qJXRA2bxVEa5"
      }
    },
    {
      "cell_type": "code",
      "source": [
        "MAX_LEN = 20 \n",
        "tokenizer = Tokenizer()\n",
        "tokenizer.fit_on_texts(corpus)\n",
        "\n",
        "sequences = tokenizer.texts_to_sequences(corpus)\n",
        "\n",
        "corpus_pad = pad_sequences(sequences, maxlen=MAX_LEN, truncating='post', padding='post')"
      ],
      "metadata": {
        "id": "PMShyzNoVFkA"
      },
      "execution_count": 40,
      "outputs": []
    },
    {
      "cell_type": "code",
      "source": [
        "# Unique words present\n",
        "word_index = tokenizer.word_index\n",
        "print(f\"Number of unique words : {len(word_index)}\")"
      ],
      "metadata": {
        "colab": {
          "base_uri": "https://localhost:8080/"
        },
        "id": "UFLLt2wVVMIf",
        "outputId": "8242161a-b0e0-4a28-ba36-7fb1c8513c81"
      },
      "execution_count": 41,
      "outputs": [
        {
          "output_type": "stream",
          "name": "stdout",
          "text": [
            "Number of unique words : 16883\n"
          ]
        }
      ]
    },
    {
      "cell_type": "code",
      "source": [
        "MAX_LEN = 20 \n",
        "tokenizer = Tokenizer()\n",
        "tokenizer.fit_on_texts(corpus)\n",
        "\n",
        "sequences = tokenizer.texts_to_sequences(corpus)\n",
        "\n",
        "corpus_pad = pad_sequences(sequences, maxlen=MAX_LEN, truncating='post', padding='post')"
      ],
      "metadata": {
        "id": "L12rAnimXF2q"
      },
      "execution_count": 48,
      "outputs": []
    },
    {
      "cell_type": "code",
      "source": [
        "word_index = tokenizer.word_index\n",
        "print(f\"Number of unique words : {len(word_index)}\")"
      ],
      "metadata": {
        "colab": {
          "base_uri": "https://localhost:8080/"
        },
        "id": "vkLtnf4qXg65",
        "outputId": "369efaa5-04da-40fb-9b9b-796b5a5cbba3"
      },
      "execution_count": 49,
      "outputs": [
        {
          "output_type": "stream",
          "name": "stdout",
          "text": [
            "Number of unique words : 16883\n"
          ]
        }
      ]
    },
    {
      "cell_type": "code",
      "source": [
        "num_words=len(word_index)+1\n",
        "\n",
        "\n",
        "for word,i in tqdm(word_index.items()):\n",
        "    if i > num_words:\n",
        "        continue\n",
        "    \n",
        "    emb_vec=embedding_dict.get(word)\n",
        "    if emb_vec is not None:\n",
        "        embedding_matrix[i]=emb_vec"
      ],
      "metadata": {
        "colab": {
          "base_uri": "https://localhost:8080/"
        },
        "id": "F8NtAIcwXquW",
        "outputId": "e39433a8-38bc-4078-a147-efec1190b687"
      },
      "execution_count": 50,
      "outputs": [
        {
          "output_type": "stream",
          "name": "stderr",
          "text": [
            "100%|██████████| 16883/16883 [00:00<00:00, 1046159.36it/s]\n"
          ]
        }
      ]
    },
    {
      "cell_type": "code",
      "source": [
        "# We need sequential model to process sequence of text data\n",
        "model=Sequential()"
      ],
      "metadata": {
        "id": "nUp55UfJXxdH"
      },
      "execution_count": 51,
      "outputs": []
    },
    {
      "cell_type": "code",
      "source": [
        "embedding=Embedding(num_words,100,\n",
        "                    embeddings_initializer=Constant(embedding_matrix),\n",
        "                    input_length=MAX_LEN,\n",
        "                    trainable=False)"
      ],
      "metadata": {
        "id": "XjKjqAsqYdS6"
      },
      "execution_count": 52,
      "outputs": []
    },
    {
      "cell_type": "code",
      "source": [
        "# Adding Embedding Layer\n",
        "model.add(embedding)"
      ],
      "metadata": {
        "id": "YsQ0Pcu4Yj2g"
      },
      "execution_count": 53,
      "outputs": []
    },
    {
      "cell_type": "code",
      "source": [
        "# Drops 40% of entire row\n",
        "model.add(SpatialDropout1D(0.4))"
      ],
      "metadata": {
        "id": "4Z5W3REmYn7x"
      },
      "execution_count": 54,
      "outputs": []
    },
    {
      "cell_type": "code",
      "source": [
        "# Recurrent Layer LSTM(dimensionality of the output space, dropout = 20%, recurrent_dropout = 20%) \n",
        "model.add(LSTM(64, dropout=0.2, recurrent_dropout=0.2))"
      ],
      "metadata": {
        "id": "QzD5XflgYp_e"
      },
      "execution_count": 55,
      "outputs": []
    },
    {
      "cell_type": "code",
      "source": [
        "# Decide what we are going to output Dense(units, activation function)\n",
        "model.add(Dense(1, activation='sigmoid'))"
      ],
      "metadata": {
        "id": "B_0MRiarYzUR"
      },
      "execution_count": 56,
      "outputs": []
    },
    {
      "cell_type": "code",
      "source": [
        "# Compile the model compile(loss = binary crossentropy, use Adam(adaptive moment estimation) optimizer with learning rate 1e-3,evaluate based on accuracy)\n",
        "model.compile(loss='binary_crossentropy',optimizer=Adam(learning_rate=1e-4),metrics=['accuracy'])"
      ],
      "metadata": {
        "id": "nuySBcsZY65Z"
      },
      "execution_count": 57,
      "outputs": []
    },
    {
      "cell_type": "code",
      "source": [
        "model.summary()"
      ],
      "metadata": {
        "colab": {
          "base_uri": "https://localhost:8080/"
        },
        "id": "RuCyuA7OY_iG",
        "outputId": "3b959f91-a474-4eb9-a4f9-89a32101f631"
      },
      "execution_count": 58,
      "outputs": [
        {
          "output_type": "stream",
          "name": "stdout",
          "text": [
            "Model: \"sequential_1\"\n",
            "_________________________________________________________________\n",
            " Layer (type)                Output Shape              Param #   \n",
            "=================================================================\n",
            " embedding (Embedding)       (None, 20, 100)           1688400   \n",
            "                                                                 \n",
            " spatial_dropout1d (SpatialD  (None, 20, 100)          0         \n",
            " ropout1D)                                                       \n",
            "                                                                 \n",
            " lstm (LSTM)                 (None, 64)                42240     \n",
            "                                                                 \n",
            " dense (Dense)               (None, 1)                 65        \n",
            "                                                                 \n",
            "=================================================================\n",
            "Total params: 1,730,705\n",
            "Trainable params: 42,305\n",
            "Non-trainable params: 1,688,400\n",
            "_________________________________________________________________\n"
          ]
        }
      ]
    },
    {
      "cell_type": "code",
      "source": [
        "X_train,X_test,y_train,y_test = train_test_split(corpus_pad, df_train['target'].values, test_size = 0.25, random_state = 0 )"
      ],
      "metadata": {
        "id": "l54M0vrqZFIc"
      },
      "execution_count": 59,
      "outputs": []
    },
    {
      "cell_type": "code",
      "source": [
        "print('Shape of train',X_train.shape)\n",
        "print(\"Shape of Validation \",X_test.shape)\n",
        "\n",
        "print('Shape of train',y_train.shape)\n",
        "print(\"Shape of Validation \",y_test.shape)"
      ],
      "metadata": {
        "colab": {
          "base_uri": "https://localhost:8080/"
        },
        "id": "qbhEoMm1ZT5c",
        "outputId": "3d37c704-3956-47c5-9304-5b499a8371ab"
      },
      "execution_count": 61,
      "outputs": [
        {
          "output_type": "stream",
          "name": "stdout",
          "text": [
            "Shape of train (5709, 20)\n",
            "Shape of Validation  (1904, 20)\n",
            "Shape of train (5709,)\n",
            "Shape of Validation  (1904,)\n"
          ]
        }
      ]
    },
    {
      "cell_type": "code",
      "source": [
        "history=model.fit(X_train,y_train,batch_size=32,epochs=70,validation_data=(X_test,y_test),verbose=2)"
      ],
      "metadata": {
        "colab": {
          "base_uri": "https://localhost:8080/"
        },
        "id": "ocZfaySSZZwP",
        "outputId": "8984cd8e-6cde-484e-8419-c03543c651ea"
      },
      "execution_count": 63,
      "outputs": [
        {
          "output_type": "stream",
          "name": "stdout",
          "text": [
            "Epoch 1/70\n",
            "179/179 - 5s - loss: 0.6844 - accuracy: 0.5666 - val_loss: 0.6805 - val_accuracy: 0.5814 - 5s/epoch - 26ms/step\n",
            "Epoch 2/70\n",
            "179/179 - 4s - loss: 0.6844 - accuracy: 0.5666 - val_loss: 0.6803 - val_accuracy: 0.5814 - 4s/epoch - 20ms/step\n",
            "Epoch 3/70\n",
            "179/179 - 4s - loss: 0.6844 - accuracy: 0.5666 - val_loss: 0.6803 - val_accuracy: 0.5814 - 4s/epoch - 20ms/step\n",
            "Epoch 4/70\n",
            "179/179 - 4s - loss: 0.6844 - accuracy: 0.5666 - val_loss: 0.6802 - val_accuracy: 0.5814 - 4s/epoch - 20ms/step\n",
            "Epoch 5/70\n",
            "179/179 - 3s - loss: 0.6844 - accuracy: 0.5666 - val_loss: 0.6807 - val_accuracy: 0.5814 - 3s/epoch - 19ms/step\n",
            "Epoch 6/70\n",
            "179/179 - 4s - loss: 0.6845 - accuracy: 0.5666 - val_loss: 0.6804 - val_accuracy: 0.5814 - 4s/epoch - 20ms/step\n",
            "Epoch 7/70\n",
            "179/179 - 4s - loss: 0.6843 - accuracy: 0.5666 - val_loss: 0.6802 - val_accuracy: 0.5814 - 4s/epoch - 20ms/step\n",
            "Epoch 8/70\n",
            "179/179 - 3s - loss: 0.6844 - accuracy: 0.5666 - val_loss: 0.6807 - val_accuracy: 0.5814 - 3s/epoch - 20ms/step\n",
            "Epoch 9/70\n",
            "179/179 - 4s - loss: 0.6843 - accuracy: 0.5666 - val_loss: 0.6803 - val_accuracy: 0.5814 - 4s/epoch - 20ms/step\n",
            "Epoch 10/70\n",
            "179/179 - 4s - loss: 0.6843 - accuracy: 0.5666 - val_loss: 0.6803 - val_accuracy: 0.5814 - 4s/epoch - 20ms/step\n",
            "Epoch 11/70\n",
            "179/179 - 4s - loss: 0.6844 - accuracy: 0.5666 - val_loss: 0.6805 - val_accuracy: 0.5814 - 4s/epoch - 20ms/step\n",
            "Epoch 12/70\n",
            "179/179 - 3s - loss: 0.6844 - accuracy: 0.5666 - val_loss: 0.6800 - val_accuracy: 0.5814 - 3s/epoch - 20ms/step\n",
            "Epoch 13/70\n",
            "179/179 - 4s - loss: 0.6844 - accuracy: 0.5666 - val_loss: 0.6801 - val_accuracy: 0.5814 - 4s/epoch - 20ms/step\n",
            "Epoch 14/70\n",
            "179/179 - 4s - loss: 0.6844 - accuracy: 0.5666 - val_loss: 0.6802 - val_accuracy: 0.5814 - 4s/epoch - 20ms/step\n",
            "Epoch 15/70\n",
            "179/179 - 4s - loss: 0.6843 - accuracy: 0.5666 - val_loss: 0.6802 - val_accuracy: 0.5814 - 4s/epoch - 20ms/step\n",
            "Epoch 16/70\n",
            "179/179 - 4s - loss: 0.6845 - accuracy: 0.5666 - val_loss: 0.6804 - val_accuracy: 0.5814 - 4s/epoch - 20ms/step\n",
            "Epoch 17/70\n",
            "179/179 - 4s - loss: 0.6844 - accuracy: 0.5666 - val_loss: 0.6805 - val_accuracy: 0.5814 - 4s/epoch - 20ms/step\n",
            "Epoch 18/70\n",
            "179/179 - 4s - loss: 0.6844 - accuracy: 0.5666 - val_loss: 0.6803 - val_accuracy: 0.5814 - 4s/epoch - 20ms/step\n",
            "Epoch 19/70\n",
            "179/179 - 4s - loss: 0.6844 - accuracy: 0.5666 - val_loss: 0.6804 - val_accuracy: 0.5814 - 4s/epoch - 20ms/step\n",
            "Epoch 20/70\n",
            "179/179 - 4s - loss: 0.6845 - accuracy: 0.5666 - val_loss: 0.6804 - val_accuracy: 0.5814 - 4s/epoch - 20ms/step\n",
            "Epoch 21/70\n",
            "179/179 - 4s - loss: 0.6845 - accuracy: 0.5666 - val_loss: 0.6803 - val_accuracy: 0.5814 - 4s/epoch - 20ms/step\n",
            "Epoch 22/70\n",
            "179/179 - 4s - loss: 0.6844 - accuracy: 0.5666 - val_loss: 0.6802 - val_accuracy: 0.5814 - 4s/epoch - 20ms/step\n",
            "Epoch 23/70\n",
            "179/179 - 4s - loss: 0.6843 - accuracy: 0.5666 - val_loss: 0.6803 - val_accuracy: 0.5814 - 4s/epoch - 20ms/step\n",
            "Epoch 24/70\n",
            "179/179 - 4s - loss: 0.6844 - accuracy: 0.5666 - val_loss: 0.6803 - val_accuracy: 0.5814 - 4s/epoch - 20ms/step\n",
            "Epoch 25/70\n",
            "179/179 - 4s - loss: 0.6843 - accuracy: 0.5666 - val_loss: 0.6805 - val_accuracy: 0.5814 - 4s/epoch - 20ms/step\n",
            "Epoch 26/70\n",
            "179/179 - 4s - loss: 0.6843 - accuracy: 0.5666 - val_loss: 0.6805 - val_accuracy: 0.5814 - 4s/epoch - 20ms/step\n",
            "Epoch 27/70\n",
            "179/179 - 4s - loss: 0.6843 - accuracy: 0.5666 - val_loss: 0.6803 - val_accuracy: 0.5814 - 4s/epoch - 20ms/step\n",
            "Epoch 28/70\n",
            "179/179 - 4s - loss: 0.6844 - accuracy: 0.5666 - val_loss: 0.6801 - val_accuracy: 0.5814 - 4s/epoch - 20ms/step\n",
            "Epoch 29/70\n",
            "179/179 - 4s - loss: 0.6844 - accuracy: 0.5666 - val_loss: 0.6805 - val_accuracy: 0.5814 - 4s/epoch - 20ms/step\n",
            "Epoch 30/70\n",
            "179/179 - 4s - loss: 0.6844 - accuracy: 0.5666 - val_loss: 0.6803 - val_accuracy: 0.5814 - 4s/epoch - 20ms/step\n",
            "Epoch 31/70\n",
            "179/179 - 4s - loss: 0.6843 - accuracy: 0.5666 - val_loss: 0.6802 - val_accuracy: 0.5814 - 4s/epoch - 20ms/step\n",
            "Epoch 32/70\n",
            "179/179 - 4s - loss: 0.6844 - accuracy: 0.5666 - val_loss: 0.6802 - val_accuracy: 0.5814 - 4s/epoch - 20ms/step\n",
            "Epoch 33/70\n",
            "179/179 - 4s - loss: 0.6844 - accuracy: 0.5666 - val_loss: 0.6802 - val_accuracy: 0.5814 - 4s/epoch - 20ms/step\n",
            "Epoch 34/70\n",
            "179/179 - 4s - loss: 0.6843 - accuracy: 0.5666 - val_loss: 0.6803 - val_accuracy: 0.5814 - 4s/epoch - 20ms/step\n",
            "Epoch 35/70\n",
            "179/179 - 4s - loss: 0.6842 - accuracy: 0.5666 - val_loss: 0.6806 - val_accuracy: 0.5814 - 4s/epoch - 20ms/step\n",
            "Epoch 36/70\n",
            "179/179 - 4s - loss: 0.6844 - accuracy: 0.5666 - val_loss: 0.6801 - val_accuracy: 0.5814 - 4s/epoch - 20ms/step\n",
            "Epoch 37/70\n",
            "179/179 - 4s - loss: 0.6844 - accuracy: 0.5666 - val_loss: 0.6801 - val_accuracy: 0.5814 - 4s/epoch - 20ms/step\n",
            "Epoch 38/70\n",
            "179/179 - 4s - loss: 0.6844 - accuracy: 0.5666 - val_loss: 0.6801 - val_accuracy: 0.5814 - 4s/epoch - 20ms/step\n",
            "Epoch 39/70\n",
            "179/179 - 4s - loss: 0.6843 - accuracy: 0.5666 - val_loss: 0.6808 - val_accuracy: 0.5814 - 4s/epoch - 20ms/step\n",
            "Epoch 40/70\n",
            "179/179 - 4s - loss: 0.6844 - accuracy: 0.5666 - val_loss: 0.6804 - val_accuracy: 0.5814 - 4s/epoch - 20ms/step\n",
            "Epoch 41/70\n",
            "179/179 - 4s - loss: 0.6844 - accuracy: 0.5666 - val_loss: 0.6804 - val_accuracy: 0.5814 - 4s/epoch - 20ms/step\n",
            "Epoch 42/70\n",
            "179/179 - 4s - loss: 0.6843 - accuracy: 0.5666 - val_loss: 0.6803 - val_accuracy: 0.5814 - 4s/epoch - 20ms/step\n",
            "Epoch 43/70\n",
            "179/179 - 4s - loss: 0.6844 - accuracy: 0.5666 - val_loss: 0.6803 - val_accuracy: 0.5814 - 4s/epoch - 20ms/step\n",
            "Epoch 44/70\n",
            "179/179 - 4s - loss: 0.6843 - accuracy: 0.5666 - val_loss: 0.6802 - val_accuracy: 0.5814 - 4s/epoch - 20ms/step\n",
            "Epoch 45/70\n",
            "179/179 - 4s - loss: 0.6843 - accuracy: 0.5666 - val_loss: 0.6803 - val_accuracy: 0.5814 - 4s/epoch - 20ms/step\n",
            "Epoch 46/70\n",
            "179/179 - 4s - loss: 0.6843 - accuracy: 0.5666 - val_loss: 0.6805 - val_accuracy: 0.5814 - 4s/epoch - 20ms/step\n",
            "Epoch 47/70\n",
            "179/179 - 4s - loss: 0.6844 - accuracy: 0.5666 - val_loss: 0.6803 - val_accuracy: 0.5814 - 4s/epoch - 20ms/step\n",
            "Epoch 48/70\n",
            "179/179 - 4s - loss: 0.6843 - accuracy: 0.5666 - val_loss: 0.6802 - val_accuracy: 0.5814 - 4s/epoch - 20ms/step\n",
            "Epoch 49/70\n",
            "179/179 - 4s - loss: 0.6844 - accuracy: 0.5666 - val_loss: 0.6803 - val_accuracy: 0.5814 - 4s/epoch - 20ms/step\n",
            "Epoch 50/70\n",
            "179/179 - 4s - loss: 0.6844 - accuracy: 0.5666 - val_loss: 0.6800 - val_accuracy: 0.5814 - 4s/epoch - 20ms/step\n",
            "Epoch 51/70\n",
            "179/179 - 3s - loss: 0.6843 - accuracy: 0.5666 - val_loss: 0.6806 - val_accuracy: 0.5814 - 3s/epoch - 20ms/step\n",
            "Epoch 52/70\n",
            "179/179 - 4s - loss: 0.6844 - accuracy: 0.5666 - val_loss: 0.6805 - val_accuracy: 0.5814 - 4s/epoch - 20ms/step\n",
            "Epoch 53/70\n",
            "179/179 - 4s - loss: 0.6843 - accuracy: 0.5666 - val_loss: 0.6802 - val_accuracy: 0.5814 - 4s/epoch - 20ms/step\n",
            "Epoch 54/70\n",
            "179/179 - 4s - loss: 0.6843 - accuracy: 0.5666 - val_loss: 0.6801 - val_accuracy: 0.5814 - 4s/epoch - 20ms/step\n",
            "Epoch 55/70\n",
            "179/179 - 4s - loss: 0.6845 - accuracy: 0.5666 - val_loss: 0.6804 - val_accuracy: 0.5814 - 4s/epoch - 20ms/step\n",
            "Epoch 56/70\n",
            "179/179 - 4s - loss: 0.6843 - accuracy: 0.5666 - val_loss: 0.6804 - val_accuracy: 0.5814 - 4s/epoch - 20ms/step\n",
            "Epoch 57/70\n",
            "179/179 - 4s - loss: 0.6844 - accuracy: 0.5666 - val_loss: 0.6802 - val_accuracy: 0.5814 - 4s/epoch - 20ms/step\n",
            "Epoch 58/70\n",
            "179/179 - 4s - loss: 0.6843 - accuracy: 0.5666 - val_loss: 0.6808 - val_accuracy: 0.5814 - 4s/epoch - 20ms/step\n",
            "Epoch 59/70\n",
            "179/179 - 4s - loss: 0.6844 - accuracy: 0.5666 - val_loss: 0.6807 - val_accuracy: 0.5814 - 4s/epoch - 20ms/step\n",
            "Epoch 60/70\n",
            "179/179 - 4s - loss: 0.6844 - accuracy: 0.5666 - val_loss: 0.6804 - val_accuracy: 0.5814 - 4s/epoch - 20ms/step\n",
            "Epoch 61/70\n",
            "179/179 - 4s - loss: 0.6843 - accuracy: 0.5666 - val_loss: 0.6804 - val_accuracy: 0.5814 - 4s/epoch - 20ms/step\n",
            "Epoch 62/70\n",
            "179/179 - 4s - loss: 0.6844 - accuracy: 0.5666 - val_loss: 0.6802 - val_accuracy: 0.5814 - 4s/epoch - 20ms/step\n",
            "Epoch 63/70\n",
            "179/179 - 4s - loss: 0.6843 - accuracy: 0.5666 - val_loss: 0.6803 - val_accuracy: 0.5814 - 4s/epoch - 20ms/step\n",
            "Epoch 64/70\n",
            "179/179 - 4s - loss: 0.6844 - accuracy: 0.5666 - val_loss: 0.6801 - val_accuracy: 0.5814 - 4s/epoch - 20ms/step\n",
            "Epoch 65/70\n",
            "179/179 - 4s - loss: 0.6844 - accuracy: 0.5666 - val_loss: 0.6801 - val_accuracy: 0.5814 - 4s/epoch - 20ms/step\n",
            "Epoch 66/70\n",
            "179/179 - 4s - loss: 0.6843 - accuracy: 0.5666 - val_loss: 0.6804 - val_accuracy: 0.5814 - 4s/epoch - 20ms/step\n",
            "Epoch 67/70\n",
            "179/179 - 4s - loss: 0.6845 - accuracy: 0.5666 - val_loss: 0.6805 - val_accuracy: 0.5814 - 4s/epoch - 20ms/step\n",
            "Epoch 68/70\n",
            "179/179 - 4s - loss: 0.6844 - accuracy: 0.5666 - val_loss: 0.6802 - val_accuracy: 0.5814 - 4s/epoch - 20ms/step\n",
            "Epoch 69/70\n",
            "179/179 - 4s - loss: 0.6843 - accuracy: 0.5666 - val_loss: 0.6803 - val_accuracy: 0.5814 - 4s/epoch - 20ms/step\n",
            "Epoch 70/70\n",
            "179/179 - 4s - loss: 0.6843 - accuracy: 0.5666 - val_loss: 0.6802 - val_accuracy: 0.5814 - 4s/epoch - 20ms/step\n"
          ]
        }
      ]
    }
  ]
}