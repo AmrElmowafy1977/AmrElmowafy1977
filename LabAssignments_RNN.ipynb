{
  "nbformat": 4,
  "nbformat_minor": 0,
  "metadata": {
    "colab": {
      "name": "LabAssignments_RNN.ipynb",
      "provenance": [],
      "collapsed_sections": [],
      "authorship_tag": "ABX9TyN2iwlDch+/i4HJlcmzNCKS",
      "include_colab_link": true
    },
    "kernelspec": {
      "name": "python3",
      "display_name": "Python 3"
    },
    "language_info": {
      "name": "python"
    }
  },
  "cells": [
    {
      "cell_type": "markdown",
      "metadata": {
        "id": "view-in-github",
        "colab_type": "text"
      },
      "source": [
        "<a href=\"https://colab.research.google.com/github/AmrElmowafy1977/AmrElmowafy1977/blob/main/LabAssignments_RNN.ipynb\" target=\"_parent\"><img src=\"https://colab.research.google.com/assets/colab-badge.svg\" alt=\"Open In Colab\"/></a>"
      ]
    },
    {
      "cell_type": "markdown",
      "source": [
        "#Import Libraries"
      ],
      "metadata": {
        "id": "0Ifeq-4iA7TD"
      }
    },
    {
      "cell_type": "code",
      "source": [
        "from keras.preprocessing import sequence\n",
        "from keras.models import Sequential\n",
        "from keras.layers import Dense, Dropout, Embedding, SimpleRNN\n",
        "from keras.datasets import imdb\n",
        "from keras.callbacks import TensorBoard"
      ],
      "metadata": {
        "id": "loT2XpMYA_94"
      },
      "execution_count": 1,
      "outputs": []
    },
    {
      "cell_type": "code",
      "source": [
        "# Hyper-Parameters\n",
        "max_features = 5000\n",
        "no_classes = 1\n",
        "max_length = 100\n",
        "batch_size = 64\n",
        "embedding_size = 64\n",
        "dropout_rate = 0.5\n",
        "hidden_layer_size = 250\n",
        "no_epochs = 5"
      ],
      "metadata": {
        "id": "TXuIpu9nBOP7"
      },
      "execution_count": 2,
      "outputs": []
    },
    {
      "cell_type": "code",
      "source": [
        "# Load IMDB Data from Keras datasets\n",
        "(x_train, y_train), (x_test, y_test) = imdb.load_data(num_words=max_features)\n",
        "print('Data loaded successfully.')\n",
        "print('# Train Data = ', len(x_train))\n",
        "print('# Test Data = ', len(x_test))"
      ],
      "metadata": {
        "colab": {
          "base_uri": "https://localhost:8080/"
        },
        "id": "zzWbCNFrBPHT",
        "outputId": "e0d5dbb8-e35e-4331-e5af-357cbf71ac99"
      },
      "execution_count": 3,
      "outputs": [
        {
          "output_type": "stream",
          "name": "stdout",
          "text": [
            "Downloading data from https://storage.googleapis.com/tensorflow/tf-keras-datasets/imdb.npz\n",
            "17465344/17464789 [==============================] - 1s 0us/step\n",
            "17473536/17464789 [==============================] - 1s 0us/step\n",
            "Data loaded successfully.\n",
            "# Train Data =  25000\n",
            "# Test Data =  25000\n"
          ]
        }
      ]
    },
    {
      "cell_type": "code",
      "source": [
        "# Data Preprocessing\n",
        "print('Preprocessing Data..')\n",
        "x_train = sequence.pad_sequences(x_train, maxlen=max_length)\n",
        "x_test = sequence.pad_sequences(x_test, maxlen=max_length)"
      ],
      "metadata": {
        "colab": {
          "base_uri": "https://localhost:8080/"
        },
        "id": "mLEepPNKBZ-Q",
        "outputId": "c2ac60ed-5032-4343-be70-80d1df105ad0"
      },
      "execution_count": 4,
      "outputs": [
        {
          "output_type": "stream",
          "name": "stdout",
          "text": [
            "Preprocessing Data..\n"
          ]
        }
      ]
    },
    {
      "cell_type": "code",
      "source": [
        "# Design Neural Network Architecture with SimpleRNN\n",
        "print('Building Simple RNN Model..')"
      ],
      "metadata": {
        "id": "JjBcDS8kBdYn"
      },
      "execution_count": null,
      "outputs": []
    },
    {
      "cell_type": "code",
      "source": [
        "RNN_model = Sequential()\n",
        "# Add Embedding layer\n",
        "RNN_model.add(Embedding(5000, embedding_size, input_length=100))\n",
        "RNN_model.add(Dropout(0.5))\n",
        "# Add Simple RNN layer\n",
        "RNN_model.add(SimpleRNN(units = 16, batch_input_shape=(1, 3)))\n",
        "# Add Dense Hidden Layer\n",
        "RNN_model.add(Dense(250, activation='relu'))\n",
        "RNN_model.add(Dropout(0.5))\n",
        "# Output Layer \n",
        "RNN_model.add(Dense(no_classes, activation='sigmoid'))"
      ],
      "metadata": {
        "id": "TCPPbK21G5Pn"
      },
      "execution_count": 16,
      "outputs": []
    },
    {
      "cell_type": "code",
      "source": [
        "# Configure model\n",
        "RNN_model.compile(loss='binary_crossentropy', optimizer='adam', metrics=['accuracy'])\n",
        "\n",
        "# TensorBoard\n",
        "tensorboard = TensorBoard('./logs/SimpleRNN')\n",
        "\n",
        "# Train!\n",
        "print('Training the model..')\n",
        "RNN_model.fit(x_train, y_train, batch_size=batch_size, verbose=2, epochs=10, validation_data=(x_test, y_test), callbacks = [tensorboard])"
      ],
      "metadata": {
        "colab": {
          "base_uri": "https://localhost:8080/"
        },
        "id": "Mu_yaDoQH3ls",
        "outputId": "38e43148-5b5f-4008-8a9a-ce3d45501aa1"
      },
      "execution_count": 18,
      "outputs": [
        {
          "output_type": "stream",
          "name": "stdout",
          "text": [
            "Training the model..\n",
            "Epoch 1/10\n",
            "391/391 - 19s - loss: 0.2101 - accuracy: 0.9184 - val_loss: 0.4573 - val_accuracy: 0.8381 - 19s/epoch - 50ms/step\n",
            "Epoch 2/10\n",
            "391/391 - 15s - loss: 0.1815 - accuracy: 0.9306 - val_loss: 0.4454 - val_accuracy: 0.8301 - 15s/epoch - 38ms/step\n",
            "Epoch 3/10\n",
            "391/391 - 15s - loss: 0.1682 - accuracy: 0.9349 - val_loss: 0.4841 - val_accuracy: 0.8284 - 15s/epoch - 38ms/step\n",
            "Epoch 4/10\n",
            "391/391 - 17s - loss: 0.1498 - accuracy: 0.9431 - val_loss: 0.6507 - val_accuracy: 0.8160 - 17s/epoch - 44ms/step\n",
            "Epoch 5/10\n",
            "391/391 - 15s - loss: 0.1415 - accuracy: 0.9476 - val_loss: 0.5351 - val_accuracy: 0.8280 - 15s/epoch - 38ms/step\n",
            "Epoch 6/10\n",
            "391/391 - 17s - loss: 0.1246 - accuracy: 0.9527 - val_loss: 0.5558 - val_accuracy: 0.8244 - 17s/epoch - 44ms/step\n",
            "Epoch 7/10\n",
            "391/391 - 17s - loss: 0.1233 - accuracy: 0.9558 - val_loss: 0.6325 - val_accuracy: 0.8256 - 17s/epoch - 44ms/step\n",
            "Epoch 8/10\n",
            "391/391 - 17s - loss: 0.1113 - accuracy: 0.9601 - val_loss: 0.7445 - val_accuracy: 0.8196 - 17s/epoch - 44ms/step\n",
            "Epoch 9/10\n",
            "391/391 - 17s - loss: 0.1055 - accuracy: 0.9624 - val_loss: 0.7044 - val_accuracy: 0.8227 - 17s/epoch - 44ms/step\n",
            "Epoch 10/10\n",
            "391/391 - 16s - loss: 0.0985 - accuracy: 0.9634 - val_loss: 0.7222 - val_accuracy: 0.8267 - 16s/epoch - 41ms/step\n"
          ]
        },
        {
          "output_type": "execute_result",
          "data": {
            "text/plain": [
              "<keras.callbacks.History at 0x7f309acae4d0>"
            ]
          },
          "metadata": {},
          "execution_count": 18
        }
      ]
    },
    {
      "cell_type": "code",
      "source": [
        ""
      ],
      "metadata": {
        "id": "gUqfiTboJA7R"
      },
      "execution_count": null,
      "outputs": []
    }
  ]
}